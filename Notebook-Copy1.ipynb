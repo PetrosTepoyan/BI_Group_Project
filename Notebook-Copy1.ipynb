{
 "cells": [
  {
   "cell_type": "code",
   "execution_count": 1,
   "id": "665cf8b9",
   "metadata": {},
   "outputs": [],
   "source": [
    "import time\n",
    "import json\n",
    "from utils import TABLES, generate_insert_files\n",
    "from tasks import connect, execute"
   ]
  },
  {
   "cell_type": "code",
   "execution_count": 2,
   "id": "65c201bc",
   "metadata": {},
   "outputs": [],
   "source": [
    "connection = connect()\n",
    "cursor = connection.cursor()"
   ]
  },
  {
   "cell_type": "code",
   "execution_count": 3,
   "id": "69e489a9",
   "metadata": {},
   "outputs": [],
   "source": [
    "execute(\"database_creation.sql\", cursor)"
   ]
  },
  {
   "cell_type": "code",
   "execution_count": 4,
   "id": "912b521d",
   "metadata": {},
   "outputs": [
    {
     "ename": "NameError",
     "evalue": "name 'switch_to_main' is not defined",
     "output_type": "error",
     "traceback": [
      "\u001b[0;31m---------------------------------------------------------------------------\u001b[0m",
      "\u001b[0;31mNameError\u001b[0m                                 Traceback (most recent call last)",
      "Input \u001b[0;32mIn [4]\u001b[0m, in \u001b[0;36m<cell line: 1>\u001b[0;34m()\u001b[0m\n\u001b[0;32m----> 1\u001b[0m \u001b[43mswitch_to_main\u001b[49m()\n",
      "\u001b[0;31mNameError\u001b[0m: name 'switch_to_main' is not defined"
     ]
    }
   ],
   "source": [
    "switch_to_main()"
   ]
  },
  {
   "cell_type": "code",
   "execution_count": 16,
   "id": "03650e82",
   "metadata": {},
   "outputs": [
    {
     "name": "stdout",
     "output_type": "stream",
     "text": [
      "Table created: Categories\n",
      "Table created: Customers\n",
      "Table created: Employees\n",
      "Table created: Suppliers\n",
      "Table created: Products\n",
      "Table created: Region\n",
      "Table created: Shippers\n",
      "Table created: Territories\n",
      "Table created: Orders\n",
      "Table created: OrderDetails\n"
     ]
    }
   ],
   "source": [
    "for table in TABLES:\n",
    "    execute(f\"create_table_{table}.sql\", cursor)\n",
    "    print(\"Table created:\", table)"
   ]
  },
  {
   "cell_type": "code",
   "execution_count": 17,
   "id": "9fa734ca",
   "metadata": {},
   "outputs": [
    {
     "name": "stdout",
     "output_type": "stream",
     "text": [
      "Primary keys added\n"
     ]
    }
   ],
   "source": [
    "primary_keys_script = \"add_primary_key_constraints.sql\"\n",
    "\n",
    "execute(primary_keys_script, cursor)\n",
    "print(\"Primary keys added\")"
   ]
  },
  {
   "cell_type": "code",
   "execution_count": 18,
   "id": "985ef681",
   "metadata": {},
   "outputs": [
    {
     "name": "stdout",
     "output_type": "stream",
     "text": [
      "Populating table: Categories\n",
      "Populating table: Customers\n",
      "Populating table: Employees\n",
      "Populating table: Suppliers\n",
      "Populating table: Products\n",
      "Populating table: Region\n",
      "Populating table: Shippers\n",
      "Populating table: Territories\n",
      "Populating table: Orders\n",
      "Populating table: OrderDetails\n"
     ]
    }
   ],
   "source": [
    "for table in TABLES:\n",
    "    print(\"Populating table:\", table)\n",
    "    execute(f\"insert_into_{table}.sql\", cursor)\n",
    "    time.sleep(1)\n",
    "    cursor.commit()"
   ]
  },
  {
   "cell_type": "code",
   "execution_count": 19,
   "id": "2f4ea154",
   "metadata": {},
   "outputs": [
    {
     "name": "stdout",
     "output_type": "stream",
     "text": [
      "Foreign keys added\n"
     ]
    }
   ],
   "source": [
    "foreign_keys_script = \"add_foreign_key_constraints.sql\"\n",
    "execute(foreign_keys_script, cursor, by_line = True)\n",
    "print(\"Foreign keys added\")"
   ]
  },
  {
   "cell_type": "code",
   "execution_count": 25,
   "id": "85be29ae",
   "metadata": {},
   "outputs": [],
   "source": [
    "import pandas as pd\n",
    "\n",
    "df = pd.read_excel(\"raw_data_source.xlsx\", sheet_name = \"Employees\")"
   ]
  },
  {
   "cell_type": "code",
   "execution_count": 27,
   "id": "615dbfef",
   "metadata": {},
   "outputs": [
    {
     "name": "stdout",
     "output_type": "stream",
     "text": [
      "0 EmployeeID                                                         1\n",
      "LastName                                                     Davolio\n",
      "FirstName                                                      Nancy\n",
      "Title                                           Sales Representative\n",
      "TitleOfCourtesy                                                  Ms.\n",
      "BirthDate                                        1948-12-08 00:00:00\n",
      "HireDate                                         1992-05-01 00:00:00\n",
      "Address                           507 - 20th Ave. E._x000D_\\nApt. 2A\n",
      "City                                                         Seattle\n",
      "Region                                                            WA\n",
      "PostalCode                                                     98122\n",
      "Country                                                          USA\n",
      "HomePhone                                             (206) 555-9857\n",
      "Extension                                                       5467\n",
      "Notes              Education includes a BA in psychology from Col...\n",
      "ReportsTo                                                        2.0\n",
      "PhotoPath                       http://accweb/emmployees/davolio.bmp\n",
      "Name: 0, dtype: object\n",
      "1 EmployeeID                                                         2\n",
      "LastName                                                      Fuller\n",
      "FirstName                                                     Andrew\n",
      "Title                                          Vice President, Sales\n",
      "TitleOfCourtesy                                                  Dr.\n",
      "BirthDate                                        1952-02-19 00:00:00\n",
      "HireDate                                         1992-08-14 00:00:00\n",
      "Address                                           908 W. Capital Way\n",
      "City                                                          Tacoma\n",
      "Region                                                            WA\n",
      "PostalCode                                                     98401\n",
      "Country                                                          USA\n",
      "HomePhone                                             (206) 555-9482\n",
      "Extension                                                       3457\n",
      "Notes              Andrew received his BTS commercial in 1974 and...\n",
      "ReportsTo                                                        NaN\n",
      "PhotoPath                        http://accweb/emmployees/fuller.bmp\n",
      "Name: 1, dtype: object\n",
      "2 EmployeeID                                                         3\n",
      "LastName                                                   Leverling\n",
      "FirstName                                                      Janet\n",
      "Title                                           Sales Representative\n",
      "TitleOfCourtesy                                                  Ms.\n",
      "BirthDate                                        1963-08-30 00:00:00\n",
      "HireDate                                         1992-04-01 00:00:00\n",
      "Address                                           722 Moss Bay Blvd.\n",
      "City                                                        Kirkland\n",
      "Region                                                            WA\n",
      "PostalCode                                                     98033\n",
      "Country                                                          USA\n",
      "HomePhone                                             (206) 555-3412\n",
      "Extension                                                       3355\n",
      "Notes              Janet has a BS degree in chemistry from Boston...\n",
      "ReportsTo                                                        2.0\n",
      "PhotoPath                     http://accweb/emmployees/leverling.bmp\n",
      "Name: 2, dtype: object\n",
      "3 EmployeeID                                                         4\n",
      "LastName                                                     Peacock\n",
      "FirstName                                                   Margaret\n",
      "Title                                           Sales Representative\n",
      "TitleOfCourtesy                                                 Mrs.\n",
      "BirthDate                                        1937-09-19 00:00:00\n",
      "HireDate                                         1993-05-03 00:00:00\n",
      "Address                                         4110 Old Redmond Rd.\n",
      "City                                                         Redmond\n",
      "Region                                                            WA\n",
      "PostalCode                                                     98052\n",
      "Country                                                          USA\n",
      "HomePhone                                             (206) 555-8122\n",
      "Extension                                                       5176\n",
      "Notes              Margaret holds a BA in English literature from...\n",
      "ReportsTo                                                        2.0\n",
      "PhotoPath                       http://accweb/emmployees/peacock.bmp\n",
      "Name: 3, dtype: object\n",
      "4 EmployeeID                                                         5\n",
      "LastName                                                    Buchanan\n",
      "FirstName                                                     Steven\n",
      "Title                                                  Sales Manager\n",
      "TitleOfCourtesy                                                  Mr.\n",
      "BirthDate                                        1955-03-04 00:00:00\n",
      "HireDate                                         1993-10-17 00:00:00\n",
      "Address                                              14 Garrett Hill\n",
      "City                                                          London\n",
      "Region                                                           NaN\n",
      "PostalCode                                                   SW1 8JR\n",
      "Country                                                           UK\n",
      "HomePhone                                              (71) 555-4848\n",
      "Extension                                                       3453\n",
      "Notes              Steven Buchanan graduated from St. Andrews Uni...\n",
      "ReportsTo                                                        2.0\n",
      "PhotoPath                      http://accweb/emmployees/buchanan.bmp\n",
      "Name: 4, dtype: object\n",
      "5 EmployeeID                                                         6\n",
      "LastName                                                      Suyama\n",
      "FirstName                                                    Michael\n",
      "Title                                           Sales Representative\n",
      "TitleOfCourtesy                                                  Mr.\n",
      "BirthDate                                        1963-07-02 00:00:00\n",
      "HireDate                                         1993-10-17 00:00:00\n",
      "Address                             Coventry House_x000D_\\nMiner Rd.\n",
      "City                                                          London\n",
      "Region                                                           NaN\n",
      "PostalCode                                                   EC2 7JR\n",
      "Country                                                           UK\n",
      "HomePhone                                              (71) 555-7773\n",
      "Extension                                                        428\n",
      "Notes              Michael is a graduate of Sussex University (MA...\n",
      "ReportsTo                                                        5.0\n",
      "PhotoPath                       http://accweb/emmployees/davolio.bmp\n",
      "Name: 5, dtype: object\n",
      "6 EmployeeID                                                         7\n",
      "LastName                                                        King\n",
      "FirstName                                                     Robert\n",
      "Title                                           Sales Representative\n",
      "TitleOfCourtesy                                                  Mr.\n",
      "BirthDate                                        1960-05-29 00:00:00\n",
      "HireDate                                         1994-01-02 00:00:00\n",
      "Address                        Edgeham Hollow_x000D_\\nWinchester Way\n",
      "City                                                          London\n",
      "Region                                                           NaN\n",
      "PostalCode                                                   RG1 9SP\n",
      "Country                                                           UK\n",
      "HomePhone                                              (71) 555-5598\n",
      "Extension                                                        465\n",
      "Notes              Robert King served in the Peace Corps and trav...\n",
      "ReportsTo                                                        5.0\n",
      "PhotoPath                       http://accweb/emmployees/davolio.bmp\n",
      "Name: 6, dtype: object\n",
      "7 EmployeeID                                                         8\n",
      "LastName                                                    Callahan\n",
      "FirstName                                                      Laura\n",
      "Title                                       Inside Sales Coordinator\n",
      "TitleOfCourtesy                                                  Ms.\n",
      "BirthDate                                        1958-01-09 00:00:00\n",
      "HireDate                                         1994-03-05 00:00:00\n",
      "Address                                        4726 - 11th Ave. N.E.\n",
      "City                                                         Seattle\n",
      "Region                                                            WA\n",
      "PostalCode                                                     98105\n",
      "Country                                                          USA\n",
      "HomePhone                                             (206) 555-1189\n",
      "Extension                                                       2344\n",
      "Notes              Laura received a BA in psychology from the Uni...\n",
      "ReportsTo                                                        2.0\n",
      "PhotoPath                       http://accweb/emmployees/davolio.bmp\n",
      "Name: 7, dtype: object\n",
      "8 EmployeeID                                                         9\n",
      "LastName                                                   Dodsworth\n",
      "FirstName                                                       Anne\n",
      "Title                                           Sales Representative\n",
      "TitleOfCourtesy                                                  Ms.\n",
      "BirthDate                                        1966-01-27 00:00:00\n",
      "HireDate                                         1994-11-15 00:00:00\n",
      "Address                                            7 Houndstooth Rd.\n",
      "City                                                          London\n",
      "Region                                                           NaN\n",
      "PostalCode                                                   WG2 7LT\n",
      "Country                                                           UK\n",
      "HomePhone                                              (71) 555-4444\n",
      "Extension                                                        452\n",
      "Notes              Anne has a BA degree in English from St. Lawre...\n",
      "ReportsTo                                                        5.0\n",
      "PhotoPath                       http://accweb/emmployees/davolio.bmp\n",
      "Name: 8, dtype: object\n"
     ]
    }
   ],
   "source": [
    "for index, row in df.iterrows():\n",
    "    print(index, row)"
   ]
  },
  {
   "cell_type": "code",
   "execution_count": null,
   "id": "c8373b2e",
   "metadata": {},
   "outputs": [],
   "source": [
    "insert_into_table_script = load_query('insert_into_{}'.format(table_name)).format(db=db, schema=schema)\n",
    "\n",
    "# Populate a table in sql server\n",
    "for index, row in df.iterrows():\n",
    "    cursor.execute(insert_into_table_script, row['BusinessEntityID'], row['FirstName'], row['LastName'])\n",
    "    cursor.commit()"
   ]
  },
  {
   "cell_type": "code",
   "execution_count": 35,
   "id": "a570bd83",
   "metadata": {},
   "outputs": [
    {
     "data": {
      "text/plain": [
       "[1,\n",
       " 'Davolio',\n",
       " 'Nancy',\n",
       " 'Sales Representative',\n",
       " 'Ms.',\n",
       " Timestamp('1948-12-08 00:00:00'),\n",
       " Timestamp('1992-05-01 00:00:00'),\n",
       " '507 - 20th Ave. E._x000D_\\nApt. 2A',\n",
       " 'Seattle',\n",
       " 'WA',\n",
       " '98122',\n",
       " 'USA',\n",
       " '(206) 555-9857',\n",
       " 5467,\n",
       " 'Education includes a BA in psychology from Colorado State University in 1970.  She also completed \"The Art of the Cold Call.\"  Nancy is a member of Toastmasters International.',\n",
       " 2.0,\n",
       " 'http://accweb/emmployees/davolio.bmp']"
      ]
     },
     "execution_count": 35,
     "metadata": {},
     "output_type": "execute_result"
    }
   ],
   "source": [
    "list(list(df.iterrows())[0][1])"
   ]
  },
  {
   "cell_type": "code",
   "execution_count": null,
   "id": "cdcf8cc5",
   "metadata": {},
   "outputs": [],
   "source": []
  }
 ],
 "metadata": {
  "kernelspec": {
   "display_name": "Python 3 (ipykernel)",
   "language": "python",
   "name": "python3"
  },
  "language_info": {
   "codemirror_mode": {
    "name": "ipython",
    "version": 3
   },
   "file_extension": ".py",
   "mimetype": "text/x-python",
   "name": "python",
   "nbconvert_exporter": "python",
   "pygments_lexer": "ipython3",
   "version": "3.9.13"
  }
 },
 "nbformat": 4,
 "nbformat_minor": 5
}
