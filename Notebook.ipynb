{
 "cells": [
  {
   "cell_type": "code",
   "execution_count": 1,
   "metadata": {},
   "outputs": [],
   "source": [
    "import tasks\n",
    "from utils import parse_config\n",
    "\n",
    "configuration = parse_config(\"config\")\n",
    "\n",
    "raw_data = configuration[\"raw_data\"]\n",
    "TABLES = configuration[\"TABLES\"]\n",
    "SCD_types = configuration[\"SCD\"]\n",
    "\n",
    "db_master = configuration[\"db_master\"]\n",
    "\n",
    "db_rel = configuration[\"db_rel\"]\n",
    "db_dim = configuration[\"db_dim\"]\n",
    "\n",
    "schema_rel = configuration[\"schema_rel\"]\n",
    "schema_dim = configuration[\"schema_dim\"]"
   ]
  },
  {
   "cell_type": "code",
   "execution_count": 2,
   "metadata": {},
   "outputs": [
    {
     "name": "stdout",
     "output_type": "stream",
     "text": [
      "Connection string: DRIVER=/opt/homebrew/lib/libmsodbcsql.18.dylib;SERVER=localhost,1433;DATABASE=master;TrustServerCertificate=yes;UID=sa;PWD=bigStrong1234Password!re\n",
      "Connected    \n",
      "\n",
      "Dropped databases\n",
      "Created databases\n"
     ]
    }
   ],
   "source": [
    "conn_master = tasks.connect_to(db_master)\n",
    "\n",
    "tasks.drop_database_if_exists(conn_master)\n",
    "tasks.create_database(conn_master)\n",
    "\n",
    "conn_master.close()"
   ]
  },
  {
   "cell_type": "code",
   "execution_count": 3,
   "metadata": {
    "azdata_cell_guid": "d4b990fa-edcb-446a-a528-6f5f2ba04334",
    "language": "python"
   },
   "outputs": [
    {
     "name": "stdout",
     "output_type": "stream",
     "text": [
      "Connection string: DRIVER=/opt/homebrew/lib/libmsodbcsql.18.dylib;SERVER=localhost,1433;DATABASE=Orders_RELATIONAL_DB;TrustServerCertificate=yes;UID=sa;PWD=bigStrong1234Password!re\n",
      "Connected    \n",
      "\n",
      "Created databases\n",
      "The dbo.Categories table from the database Orders_RELATIONAL_DB has been dropped\n",
      "The dbo.Categories table from the database Orders_RELATIONAL_DB has been created\n",
      "Inserting into Categories...\n",
      "8 rows have been inserted into the Orders_RELATIONAL_DB.dbo.Categories table\n",
      "\n",
      "The dbo.Customers table from the database Orders_RELATIONAL_DB has been dropped\n",
      "The dbo.Customers table from the database Orders_RELATIONAL_DB has been created\n",
      "Inserting into Customers...\n",
      "91 rows have been inserted into the Orders_RELATIONAL_DB.dbo.Customers table\n",
      "\n",
      "The dbo.Employees table from the database Orders_RELATIONAL_DB has been dropped\n",
      "The dbo.Employees table from the database Orders_RELATIONAL_DB has been created\n",
      "Inserting into Employees...\n",
      "9 rows have been inserted into the Orders_RELATIONAL_DB.dbo.Employees table\n",
      "\n",
      "The dbo.Suppliers table from the database Orders_RELATIONAL_DB has been dropped\n",
      "The dbo.Suppliers table from the database Orders_RELATIONAL_DB has been created\n",
      "Inserting into Suppliers...\n",
      "29 rows have been inserted into the Orders_RELATIONAL_DB.dbo.Suppliers table\n",
      "\n",
      "The dbo.Products table from the database Orders_RELATIONAL_DB has been dropped\n",
      "The dbo.Products table from the database Orders_RELATIONAL_DB has been created\n",
      "Inserting into Products...\n",
      "77 rows have been inserted into the Orders_RELATIONAL_DB.dbo.Products table\n",
      "\n",
      "The dbo.Region table from the database Orders_RELATIONAL_DB has been dropped\n",
      "The dbo.Region table from the database Orders_RELATIONAL_DB has been created\n",
      "Inserting into Region...\n",
      "4 rows have been inserted into the Orders_RELATIONAL_DB.dbo.Region table\n",
      "\n",
      "The dbo.Shippers table from the database Orders_RELATIONAL_DB has been dropped\n",
      "The dbo.Shippers table from the database Orders_RELATIONAL_DB has been created\n",
      "Inserting into Shippers...\n",
      "3 rows have been inserted into the Orders_RELATIONAL_DB.dbo.Shippers table\n",
      "\n",
      "The dbo.Territories table from the database Orders_RELATIONAL_DB has been dropped\n",
      "The dbo.Territories table from the database Orders_RELATIONAL_DB has been created\n",
      "Inserting into Territories...\n",
      "53 rows have been inserted into the Orders_RELATIONAL_DB.dbo.Territories table\n",
      "\n",
      "The dbo.Orders table from the database Orders_RELATIONAL_DB has been dropped\n",
      "The dbo.Orders table from the database Orders_RELATIONAL_DB has been created\n",
      "Inserting into Orders...\n",
      "830 rows have been inserted into the Orders_RELATIONAL_DB.dbo.Orders table\n",
      "\n",
      "The dbo.OrderDetails table from the database Orders_RELATIONAL_DB has been dropped\n",
      "The dbo.OrderDetails table from the database Orders_RELATIONAL_DB has been created\n",
      "Inserting into OrderDetails...\n",
      "2155 rows have been inserted into the Orders_RELATIONAL_DB.dbo.OrderDetails table\n",
      "\n",
      "Added primary key constraints\n",
      "Added foriegn key constraints\n"
     ]
    }
   ],
   "source": [
    "conn_ER = tasks.connect_to(db_rel)\n",
    "\n",
    "tasks.create_database(conn_ER)\n",
    "\n",
    "tasks.drop_constraints_if_exist(conn_ER, db_rel, schema_rel)\n",
    "\n",
    "for table in TABLES:\n",
    "    tasks.drop_table_if_exists(conn_ER, table, db_rel, schema_rel)\n",
    "    tasks.create_table(conn_ER, table, db_rel, schema_rel)\n",
    "    tasks.insert_into_table(conn_ER, raw_data, table, db_rel, schema_rel)\n",
    "\n",
    "tasks.set_constraints(conn_ER, db_rel, schema_rel)\n",
    "\n",
    "conn_ER.close()"
   ]
  },
  {
   "cell_type": "code",
   "execution_count": 4,
   "metadata": {},
   "outputs": [
    {
     "name": "stdout",
     "output_type": "stream",
     "text": [
      "Connection string: DRIVER=/opt/homebrew/lib/libmsodbcsql.18.dylib;SERVER=localhost,1433;DATABASE=Orders_DIMENSIONAL_DW;TrustServerCertificate=yes;UID=sa;PWD=bigStrong1234Password!re\n",
      "Connected    \n",
      "\n",
      "The dbo.dim_Categories_SCD3 table from the database Orders_DIMENSIONAL_DW has been dropped\n",
      "The dbo.dim_Categories_SCD3 table from the database Orders_DIMENSIONAL_DW has been created\n",
      "\n",
      "Executing Categories_SCD3_ETL...\n",
      "Updated dim table Categories_SCD3\n",
      "\n",
      "The dbo.dim_Customers_SCD3 table from the database Orders_DIMENSIONAL_DW has been dropped\n",
      "The dbo.dim_Customers_SCD3 table from the database Orders_DIMENSIONAL_DW has been created\n",
      "\n",
      "Executing Customers_SCD3_ETL...\n",
      "Updated dim table Customers_SCD3\n",
      "\n",
      "The dbo.dim_Employees_SCD2 table from the database Orders_DIMENSIONAL_DW has been dropped\n",
      "The dbo.dim_Employees_SCD2 table from the database Orders_DIMENSIONAL_DW has been created\n",
      "\n",
      "Executing Employees_SCD2_ETL...\n",
      "Updated dim table Employees_SCD2\n",
      "\n",
      "The dbo.dim_Products_SCD4 table from the database Orders_DIMENSIONAL_DW has been dropped\n",
      "The dbo.dim_Products_SCD4 table from the database Orders_DIMENSIONAL_DW has been created\n",
      "\n",
      "Executing Products_SCD4_ETL...\n",
      "Updated dim table Products_SCD4\n",
      "\n",
      "The dbo.dim_Region_SCD1_with_delete table from the database Orders_DIMENSIONAL_DW has been dropped\n",
      "The dbo.dim_Region_SCD1_with_delete table from the database Orders_DIMENSIONAL_DW has been created\n",
      "\n",
      "Executing Region_SCD1_with_delete_ETL...\n",
      "Updated dim table Region_SCD1_with_delete\n",
      "\n",
      "The dbo.dim_Shippers_SCD3 table from the database Orders_DIMENSIONAL_DW has been dropped\n",
      "The dbo.dim_Shippers_SCD3 table from the database Orders_DIMENSIONAL_DW has been created\n",
      "\n",
      "Executing Shippers_SCD3_ETL...\n",
      "Updated dim table Shippers_SCD3\n",
      "\n",
      "The dbo.dim_Suppliers_SCD1_with_delete table from the database Orders_DIMENSIONAL_DW has been dropped\n",
      "The dbo.dim_Suppliers_SCD1_with_delete table from the database Orders_DIMENSIONAL_DW has been created\n",
      "\n",
      "Executing Suppliers_SCD1_with_delete_ETL...\n",
      "Updated dim table Suppliers_SCD1_with_delete\n",
      "\n",
      "The dbo.dim_Territories_SCD3 table from the database Orders_DIMENSIONAL_DW has been dropped\n",
      "The dbo.dim_Territories_SCD3 table from the database Orders_DIMENSIONAL_DW has been created\n",
      "\n",
      "Executing Territories_SCD3_ETL...\n",
      "Updated dim table Territories_SCD3\n",
      "\n"
     ]
    }
   ],
   "source": [
    "conn_DW = tasks.connect_to(db_dim)\n",
    "\n",
    "for table, SCD_type in SCD_types.items():\n",
    "    \n",
    "    tasks.drop_dim_table_if_exists(conn_DW, table, SCD_type, db_dim, schema_dim)\n",
    "    \n",
    "    tasks.create_dim_table(conn_DW, table, SCD_type, db_dim, schema_dim)\n",
    "    \n",
    "    tasks.update_dim_table(conn_DW, table, SCD_type, db_dim, db_rel, schema_dim, schema_rel)\n",
    "\n",
    "\n",
    "conn_DW.close()"
   ]
  },
  {
   "cell_type": "code",
   "execution_count": null,
   "metadata": {},
   "outputs": [],
   "source": []
  },
  {
   "cell_type": "code",
   "execution_count": null,
   "metadata": {},
   "outputs": [],
   "source": []
  }
 ],
 "metadata": {
  "kernelspec": {
   "display_name": "Python 3 (ipykernel)",
   "language": "python",
   "name": "python3"
  },
  "language_info": {
   "codemirror_mode": {
    "name": "ipython",
    "version": 3
   },
   "file_extension": ".py",
   "mimetype": "text/x-python",
   "name": "python",
   "nbconvert_exporter": "python",
   "pygments_lexer": "ipython3",
   "version": "3.9.13"
  }
 },
 "nbformat": 4,
 "nbformat_minor": 2
}
