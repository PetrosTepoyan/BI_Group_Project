{
 "cells": [
  {
   "cell_type": "code",
   "execution_count": 9,
   "id": "665cf8b9",
   "metadata": {},
   "outputs": [],
   "source": [
    "import time\n",
    "import json\n",
    "from utils import TABLES, generate_insert_files\n",
    "from tasks import connect, execute"
   ]
  },
  {
   "cell_type": "code",
   "execution_count": 10,
   "id": "929ed77e",
   "metadata": {
    "scrolled": false
   },
   "outputs": [],
   "source": [
    "for table in TABLES:\n",
    "    generate_insert_files(\"raw_data_source.xlsx\", table)"
   ]
  },
  {
   "cell_type": "code",
   "execution_count": 11,
   "id": "8b451f1f",
   "metadata": {},
   "outputs": [],
   "source": [
    "def switch_to_main():\n",
    "    execute(\"switch_to_database_orders.sql\", cursor)"
   ]
  },
  {
   "cell_type": "code",
   "execution_count": 12,
   "id": "65c201bc",
   "metadata": {},
   "outputs": [],
   "source": [
    "connection = connect()\n",
    "cursor = connection.cursor()"
   ]
  },
  {
   "cell_type": "code",
   "execution_count": 13,
   "id": "512a6e9a",
   "metadata": {},
   "outputs": [],
   "source": [
    "# execute(\"drop_foreign_key_constraints.sql\", cursor, by_line = True, ignore_errors = True, log = True)"
   ]
  },
  {
   "cell_type": "code",
   "execution_count": 14,
   "id": "69e489a9",
   "metadata": {},
   "outputs": [],
   "source": [
    "execute(\"database_creation.sql\", cursor)"
   ]
  },
  {
   "cell_type": "code",
   "execution_count": 15,
   "id": "b924e018",
   "metadata": {},
   "outputs": [],
   "source": [
    "switch_to_main()"
   ]
  },
  {
   "cell_type": "code",
   "execution_count": 16,
   "id": "daab225a",
   "metadata": {},
   "outputs": [
    {
     "name": "stdout",
     "output_type": "stream",
     "text": [
      "Table created: Categories\n",
      "Table created: Customers\n",
      "Table created: Employees\n",
      "Table created: Suppliers\n",
      "Table created: Products\n",
      "Table created: Region\n",
      "Table created: Shippers\n",
      "Table created: Territories\n",
      "Table created: Orders\n",
      "Table created: OrderDetails\n"
     ]
    }
   ],
   "source": [
    "for table in TABLES:\n",
    "    execute(f\"create_table_{table}.sql\", cursor)\n",
    "    print(\"Table created:\", table)"
   ]
  },
  {
   "cell_type": "code",
   "execution_count": 17,
   "id": "9fa734ca",
   "metadata": {},
   "outputs": [
    {
     "name": "stdout",
     "output_type": "stream",
     "text": [
      "Primary keys added\n"
     ]
    }
   ],
   "source": [
    "primary_keys_script = \"add_primary_key_constraints.sql\"\n",
    "\n",
    "execute(primary_keys_script, cursor)\n",
    "print(\"Primary keys added\")"
   ]
  },
  {
   "cell_type": "code",
   "execution_count": 18,
   "id": "985ef681",
   "metadata": {},
   "outputs": [
    {
     "name": "stdout",
     "output_type": "stream",
     "text": [
      "Populating table: Categories\n",
      "Populating table: Customers\n",
      "Populating table: Employees\n",
      "Populating table: Suppliers\n",
      "Populating table: Products\n",
      "Populating table: Region\n",
      "Populating table: Shippers\n",
      "Populating table: Territories\n",
      "Populating table: Orders\n",
      "Populating table: OrderDetails\n"
     ]
    }
   ],
   "source": [
    "for table in TABLES:\n",
    "    print(\"Populating table:\", table)\n",
    "    execute(f\"insert_into_{table}.sql\", cursor)\n",
    "    time.sleep(1)\n",
    "    cursor.commit()"
   ]
  },
  {
   "cell_type": "code",
   "execution_count": 19,
   "id": "24685f77",
   "metadata": {},
   "outputs": [
    {
     "name": "stdout",
     "output_type": "stream",
     "text": [
      "Foreign keys added\n"
     ]
    }
   ],
   "source": [
    "foreign_keys_script = \"add_foreign_key_constraints.sql\"\n",
    "execute(foreign_keys_script, cursor, by_line = True)\n",
    "print(\"Foreign keys added\")"
   ]
  },
  {
   "cell_type": "code",
   "execution_count": null,
   "id": "eeb8b0d7",
   "metadata": {},
   "outputs": [],
   "source": []
  },
  {
   "cell_type": "code",
   "execution_count": null,
   "id": "cee5694b",
   "metadata": {},
   "outputs": [],
   "source": []
  }
 ],
 "metadata": {
  "kernelspec": {
   "display_name": "Python 3 (ipykernel)",
   "language": "python",
   "name": "python3"
  },
  "language_info": {
   "codemirror_mode": {
    "name": "ipython",
    "version": 3
   },
   "file_extension": ".py",
   "mimetype": "text/x-python",
   "name": "python",
   "nbconvert_exporter": "python",
   "pygments_lexer": "ipython3",
   "version": "3.9.13"
  }
 },
 "nbformat": 4,
 "nbformat_minor": 5
}
