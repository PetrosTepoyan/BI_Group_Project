{
    "metadata": {
        "kernelspec": {
            "name": "python3",
            "display_name": "Python 3 (ipykernel)",
            "language": "python"
        },
        "language_info": {
            "name": "python",
            "version": "3.9.13",
            "mimetype": "text/x-python",
            "codemirror_mode": {
                "name": "ipython",
                "version": 3
            },
            "pygments_lexer": "ipython3",
            "nbconvert_exporter": "python",
            "file_extension": ".py"
        }
    },
    "nbformat_minor": 2,
    "nbformat": 4,
    "cells": [
        {
            "cell_type": "code",
            "source": [
                "from logging import Logger\n",
                "log = Logger(\"tasks.py\")\n",
                "log.log(0, \"Hello\")"
            ],
            "metadata": {
                "azdata_cell_guid": "48b66c5f-1484-452f-8eac-707e39086fa5",
                "language": "python"
            },
            "outputs": [],
            "execution_count": null
        },
        {
            "cell_type": "code",
            "source": [
                "import tasks\n",
                "\n",
                "if __name__ == \"__main__\":\n",
                "\n",
                "    db = \"Orders_RELATIONAL_DB\"\n",
                "    schema = \"dbo\"\n",
                "    raw_data = \"raw_data_source.xlsx\"\n",
                "\n",
                "    conn_ER = tasks.connect()\n",
                "\n",
                "    tasks.create_database(conn_ER, db)\n",
                "    \n",
                "    tasks.drop_constraints_if_exist(conn_ER, db, schema)\n",
                "    \n",
                "    for table in tasks.TABLES:    \n",
                "        tasks.drop_table(conn_ER, table, db, schema)\n",
                "        tasks.create_table(conn_ER, table, db, schema)\n",
                "        tasks.insert_into_table(conn_ER, raw_data, table, db, schema)\n",
                "    \n",
                "    tasks.set_constraints(conn_ER, db, schema)\n",
                "\n",
                "    conn_ER.close()\n",
                ""
            ],
            "metadata": {
                "azdata_cell_guid": "72a1e1c7-94f5-475c-8aba-f5ede2bb5532",
                "language": "python"
            },
            "outputs": [
                {
                    "traceback": [
                        "\u001b[0;31m---------------------------------------------------------------------------\u001b[0m",
                        "\u001b[0;31mAttributeError\u001b[0m                            Traceback (most recent call last)",
                        "Input \u001b[0;32mIn [2]\u001b[0m, in \u001b[0;36m<cell line: 3>\u001b[0;34m()\u001b[0m\n\u001b[1;32m     11\u001b[0m tasks\u001b[38;5;241m.\u001b[39mcreate_database(conn_ER, db)\n\u001b[1;32m     13\u001b[0m tasks\u001b[38;5;241m.\u001b[39mdrop_constraints_if_exist(conn_ER, db, schema)\n\u001b[0;32m---> 15\u001b[0m \u001b[38;5;28;01mfor\u001b[39;00m table \u001b[38;5;129;01min\u001b[39;00m \u001b[43mtasks\u001b[49m\u001b[38;5;241;43m.\u001b[39;49m\u001b[43mTABLES\u001b[49m:    \n\u001b[1;32m     16\u001b[0m     tasks\u001b[38;5;241m.\u001b[39mdrop_table(conn_ER, table, db, schema)\n\u001b[1;32m     17\u001b[0m     tasks\u001b[38;5;241m.\u001b[39mcreate_table(conn_ER, table, db, schema)\n",
                        "\u001b[0;31mAttributeError\u001b[0m: module 'tasks' has no attribute 'TABLES'"
                    ],
                    "ename": "AttributeError",
                    "evalue": "module 'tasks' has no attribute 'TABLES'",
                    "output_type": "error"
                }
            ],
            "execution_count": 2
        },
        {
            "cell_type": "code",
            "source": [
                "import tasks\n",
                "from utils import parse_config\n",
                "\n",
                "if __name__ == \"__main__\":\n",
                "\n",
                "    config = parse_config(\"config\")\n",
                "\n",
                "    db = config.get(\"db\")\n",
                "    schema = config.get(\"schema\")\n",
                "    raw_data = config.get(\"raw_data\")\n",
                "    TABLES = config.get(\"TABLES\")\n",
                "\n",
                "    conn_ER = tasks.connect()\n",
                "\n",
                "    tasks.create_database(conn_ER, db)\n",
                "\n",
                "    tasks.drop_constraints_if_exist(conn_ER, db, schema)\n",
                "\n",
                "    for table in TABLES:\n",
                "        tasks.drop_table_if_exists(conn_ER, table, db, schema)\n",
                "        tasks.create_table(conn_ER, table, db, schema)\n",
                "        tasks.insert_into_table(conn_ER, raw_data, table, db, schema)\n",
                "\n",
                "    tasks.set_constraints(conn_ER, db, schema)\n",
                "\n",
                "    conn_ER.close()\n",
                "\n",
                "    #     conn_Dim = tasks.connect_db_create_cursor(\"Database2\")\n",
                "    #     tasks.drop_table(conn_Dim, 'dim_people_scd1', 'Orders_DW', 'dbo')\n",
                "    #     tasks.create_table(conn_Dim, 'dim_people_scd1', 'Orders_DW', 'dbo')\n",
                "    #     tasks.update_dim_table(conn_Dim, 'dim_people_scd1', 'Orders_DW', 'dbo',\n",
                "    #                            'people', 'Orders_ER', 'dbo')\n",
                "\n",
                "    #     conn_ER.close()\n",
                "    #     conn_Dim.close()\n",
                "\n",
                "\n"
            ],
            "metadata": {
                "azdata_cell_guid": "d4b990fa-edcb-446a-a528-6f5f2ba04334",
                "language": "python"
            },
            "outputs": [
{
    "name": "stdout",
    "text": "The dbo.Categories table from the database Orders_RELATIONAL_DB has been dropped\nThe dbo.Categories table from the database Orders_RELATIONAL_DB has been created\nInserting into Categories...\n",
    "output_type": "stream"
}, {
    "name": "stdout",
    "text": "8 rows have been inserted into the Orders_RELATIONAL_DB.dbo.Categories table\n\nThe dbo.Customers table from the database Orders_RELATIONAL_DB has been dropped\nThe dbo.Customers table from the database Orders_RELATIONAL_DB has been created\nInserting into Customers...\n",
    "output_type": "stream"
}, {
    "name": "stdout",
    "text": "91 rows have been inserted into the Orders_RELATIONAL_DB.dbo.Customers table\n\nThe dbo.Employees table from the database Orders_RELATIONAL_DB has been dropped\nThe dbo.Employees table from the database Orders_RELATIONAL_DB has been created\nInserting into Employees...\n9 rows have been inserted into the Orders_RELATIONAL_DB.dbo.Employees table\n\nThe dbo.Suppliers table from the database Orders_RELATIONAL_DB has been dropped\nThe dbo.Suppliers table from the database Orders_RELATIONAL_DB has been created\nInserting into Suppliers...\n",
    "output_type": "stream"
}, {
    "name": "stdout",
    "text": "29 rows have been inserted into the Orders_RELATIONAL_DB.dbo.Suppliers table\n\nThe dbo.Products table from the database Orders_RELATIONAL_DB has been dropped\nThe dbo.Products table from the database Orders_RELATIONAL_DB has been created\nInserting into Products...\n",
    "output_type": "stream"
}, {
    "name": "stdout",
    "text": "77 rows have been inserted into the Orders_RELATIONAL_DB.dbo.Products table\n\nThe dbo.Region table from the database Orders_RELATIONAL_DB has been dropped\nThe dbo.Region table from the database Orders_RELATIONAL_DB has been created\nInserting into Region...\n4 rows have been inserted into the Orders_RELATIONAL_DB.dbo.Region table\n\nThe dbo.Shippers table from the database Orders_RELATIONAL_DB has been dropped\nThe dbo.Shippers table from the database Orders_RELATIONAL_DB has been created\nInserting into Shippers...\n3 rows have been inserted into the Orders_RELATIONAL_DB.dbo.Shippers table\n\nThe dbo.Territories table from the database Orders_RELATIONAL_DB has been dropped\nThe dbo.Territories table from the database Orders_RELATIONAL_DB has been created\nInserting into Territories...\n",
    "output_type": "stream"
}, {
    "name": "stdout",
    "text": "53 rows have been inserted into the Orders_RELATIONAL_DB.dbo.Territories table\n\nThe dbo.Orders table from the database Orders_RELATIONAL_DB has been dropped\nThe dbo.Orders table from the database Orders_RELATIONAL_DB has been created\nInserting into Orders...\n",
    "output_type": "stream"
}, {
    "name": "stdout",
    "text": "830 rows have been inserted into the Orders_RELATIONAL_DB.dbo.Orders table\n\nThe dbo.OrderDetails table from the database Orders_RELATIONAL_DB has been dropped\nThe dbo.OrderDetails table from the database Orders_RELATIONAL_DB has been created\nInserting into OrderDetails...\n",
    "output_type": "stream"
}, {
    "name": "stdout",
    "text": "2155 rows have been inserted into the Orders_RELATIONAL_DB.dbo.OrderDetails table\n\nAdded primary key constraints\nAdded foriegn key constraints\n",
    "output_type": "stream"
}
],
            "execution_count": 3
        },
        {
            "cell_type": "code",
            "source": [],
            "metadata": {
                "azdata_cell_guid": "97964ed7-20f0-4f69-95f8-fa1899d93564",
                "language": "python"
            },
            "outputs": [],
            "execution_count": null
        }
    ]
}