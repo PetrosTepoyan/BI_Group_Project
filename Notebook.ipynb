{
 "cells": [
  {
   "cell_type": "code",
   "execution_count": 1,
   "id": "665cf8b9",
   "metadata": {},
   "outputs": [],
   "source": [
    "import time\n",
    "import json\n",
    "from utils import TABLES, generate_insert_files\n",
    "from tasks import connect, execute\n",
    "import math"
   ]
  },
  {
   "cell_type": "code",
   "execution_count": 2,
   "id": "929ed77e",
   "metadata": {
    "scrolled": false
   },
   "outputs": [],
   "source": [
    "# for table in TABLES:\n",
    "#     generate_insert_files(\"raw_data_source.xlsx\", table)"
   ]
  },
  {
   "cell_type": "code",
   "execution_count": 3,
   "id": "cb2ab716",
   "metadata": {},
   "outputs": [],
   "source": [
    "def switch_to_main():\n",
    "    execute(\"switch_to_database_orders.sql\", cursor)"
   ]
  },
  {
   "cell_type": "code",
   "execution_count": 4,
   "id": "65c201bc",
   "metadata": {},
   "outputs": [],
   "source": [
    "connection = connect()\n",
    "cursor = connection.cursor()"
   ]
  },
  {
   "cell_type": "code",
   "execution_count": 5,
   "id": "43a43bd3",
   "metadata": {},
   "outputs": [],
   "source": [
    "# execute(\"drop_foreign_key_constraints.sql\", cursor, by_line = True, ignore_errors = True, log = True)"
   ]
  },
  {
   "cell_type": "code",
   "execution_count": 6,
   "id": "69e489a9",
   "metadata": {},
   "outputs": [],
   "source": [
    "execute(\"database_creation.sql\", cursor)"
   ]
  },
  {
   "cell_type": "code",
   "execution_count": 7,
   "id": "b52b8590",
   "metadata": {},
   "outputs": [],
   "source": [
    "switch_to_main()"
   ]
  },
  {
   "cell_type": "code",
   "execution_count": 8,
   "id": "d7357970",
   "metadata": {},
   "outputs": [
    {
     "name": "stdout",
     "output_type": "stream",
     "text": [
      "Table created: Categories\n",
      "Table created: Customers\n",
      "Table created: Employees\n",
      "Table created: Suppliers\n",
      "Table created: Products\n",
      "Table created: Region\n",
      "Table created: Shippers\n",
      "Table created: Territories\n",
      "Table created: Orders\n",
      "Table created: OrderDetails\n"
     ]
    }
   ],
   "source": [
    "for table in TABLES:\n",
    "    execute(f\"create_table_{table}.sql\", cursor)\n",
    "    print(\"Table created:\", table)"
   ]
  },
  {
   "cell_type": "code",
   "execution_count": 9,
   "id": "9fa734ca",
   "metadata": {},
   "outputs": [
    {
     "name": "stdout",
     "output_type": "stream",
     "text": [
      "Primary keys added\n"
     ]
    }
   ],
   "source": [
    "primary_keys_script = \"add_primary_key_constraints.sql\"\n",
    "\n",
    "execute(primary_keys_script, cursor)\n",
    "print(\"Primary keys added\")"
   ]
  },
  {
   "cell_type": "code",
   "execution_count": 10,
   "id": "f5a4fc5b",
   "metadata": {},
   "outputs": [],
   "source": [
    "db = \"Orders_RELATIONAL_DB\"\n",
    "schema = \"dbo\""
   ]
  },
  {
   "cell_type": "code",
   "execution_count": 11,
   "id": "83ce3c91",
   "metadata": {},
   "outputs": [],
   "source": [
    "import pandas as pd\n",
    "from tasks import load_query, insert_into_table"
   ]
  },
  {
   "cell_type": "code",
   "execution_count": 12,
   "id": "30bcb585",
   "metadata": {},
   "outputs": [
    {
     "name": "stdout",
     "output_type": "stream",
     "text": [
      "Inserting into Categories...\n",
      "8 rows have been inserted into the Orders_RELATIONAL_DB.dbo.Categories table\n",
      "\n",
      "Inserting into Customers...\n",
      "91 rows have been inserted into the Orders_RELATIONAL_DB.dbo.Customers table\n",
      "\n",
      "Inserting into Employees...\n",
      "9 rows have been inserted into the Orders_RELATIONAL_DB.dbo.Employees table\n",
      "\n",
      "Inserting into Suppliers...\n",
      "29 rows have been inserted into the Orders_RELATIONAL_DB.dbo.Suppliers table\n",
      "\n",
      "Inserting into Products...\n",
      "77 rows have been inserted into the Orders_RELATIONAL_DB.dbo.Products table\n",
      "\n",
      "Inserting into Region...\n",
      "4 rows have been inserted into the Orders_RELATIONAL_DB.dbo.Region table\n",
      "\n",
      "Inserting into Shippers...\n",
      "3 rows have been inserted into the Orders_RELATIONAL_DB.dbo.Shippers table\n",
      "\n",
      "Inserting into Territories...\n",
      "53 rows have been inserted into the Orders_RELATIONAL_DB.dbo.Territories table\n",
      "\n",
      "Inserting into Orders...\n",
      "830 rows have been inserted into the Orders_RELATIONAL_DB.dbo.Orders table\n",
      "\n",
      "Inserting into OrderDetails...\n",
      "2155 rows have been inserted into the Orders_RELATIONAL_DB.dbo.OrderDetails table\n",
      "\n"
     ]
    }
   ],
   "source": [
    "for table in TABLES:\n",
    "    insert_into_table(cursor, \"raw_data_source.xlsx\", table, db, schema)"
   ]
  },
  {
   "cell_type": "code",
   "execution_count": 15,
   "id": "b6c365a6",
   "metadata": {},
   "outputs": [
    {
     "name": "stdout",
     "output_type": "stream",
     "text": [
      "Foreign keys added\n"
     ]
    }
   ],
   "source": [
    "foreign_keys_script = \"add_foreign_key_constraints.sql\"\n",
    "execute(foreign_keys_script, cursor, by_line = True)\n",
    "print(\"Foreign keys added\")"
   ]
  },
  {
   "cell_type": "code",
   "execution_count": 14,
   "id": "859ebdbb",
   "metadata": {},
   "outputs": [
    {
     "data": {
      "text/plain": [
       "2155"
      ]
     },
     "execution_count": 14,
     "metadata": {},
     "output_type": "execute_result"
    }
   ],
   "source": [
    "len(cursor.execute(\"select * from OrderDetails\").fetchall())"
   ]
  }
 ],
 "metadata": {
  "kernelspec": {
   "display_name": "Python 3 (ipykernel)",
   "language": "python",
   "name": "python3"
  },
  "language_info": {
   "codemirror_mode": {
    "name": "ipython",
    "version": 3
   },
   "file_extension": ".py",
   "mimetype": "text/x-python",
   "name": "python",
   "nbconvert_exporter": "python",
   "pygments_lexer": "ipython3",
   "version": "3.9.13"
  }
 },
 "nbformat": 4,
 "nbformat_minor": 5
}
