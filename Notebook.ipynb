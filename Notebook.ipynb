{
 "cells": [
  {
   "cell_type": "code",
   "execution_count": 150,
   "id": "665cf8b9",
   "metadata": {},
   "outputs": [],
   "source": [
    "import pandas as pd\n",
    "import numpy as np\n",
    "\n",
    "from utils import TABLES"
   ]
  },
  {
   "cell_type": "code",
   "execution_count": 164,
   "id": "929ed77e",
   "metadata": {},
   "outputs": [],
   "source": [
    "df = pd.read_excel(\"raw_data_source.xlsx\", sheet_name = TABLES[2])"
   ]
  },
  {
   "cell_type": "code",
   "execution_count": 195,
   "id": "39ca122b",
   "metadata": {},
   "outputs": [],
   "source": [
    "def format_value(value):\n",
    "#     print(value)\n",
    "    if value is None or value == np.nan:\n",
    "        return \"NULL\"\n",
    "    \n",
    "    elif isinstance(value, str):\n",
    "        return f\"'{value}'\"\n",
    "    \n",
    "    else:\n",
    "        return str(value)\n",
    "\n",
    "def dataframe_to_sql_insert(dataframe, table_name):\n",
    "    insert_statements = []\n",
    "\n",
    "    for index, row in dataframe.iterrows():\n",
    "        if index != 0:\n",
    "            values = ', '.join([format_value(value) for value in row])\n",
    "            insert_statement = f\"INSERT INTO {table_name} VALUES ({values});\"\n",
    "            insert_statement = insert_statement.replace(\"nan\", \"NULL\")\n",
    "            insert_statements.append(insert_statement)\n",
    "    \n",
    "    return '\\n'.join(insert_statements)"
   ]
  },
  {
   "cell_type": "code",
   "execution_count": 196,
   "id": "7e6bc291",
   "metadata": {},
   "outputs": [
    {
     "name": "stdout",
     "output_type": "stream",
     "text": [
      "INSERT INTO Employees VALUES (2, 'Fuller', 'Andrew', 'Vice President, Sales', 'Dr.', 1952-02-19 00:00:00, 1992-08-14 00:00:00, '908 W. Capital Way', 'Tacoma', 'WA', '98401', 'USA', '(206) 555-9482', 3457, 'Andrew received his BTS commercial in 1974 and a Ph.D. in international marketing from the University of Dallas in 1981.  He is fluent in French and Italian and reads German.  He joined the company as a sales representative, was promoted to sales manager in January 1992 and to vice president of sales in March 1993.  Andrew is a member of the Sales Management Roundtable, the Seattle Chamber of Commerce, and the Pacific Rim Importers Association.', NULL, 'http://accweb/emmployees/fuller.bmp');\n",
      "INSERT INTO Employees VALUES (3, 'Leverling', 'Janet', 'Sales Representative', 'Ms.', 1963-08-30 00:00:00, 1992-04-01 00:00:00, '722 Moss Bay Blvd.', 'Kirkland', 'WA', '98033', 'USA', '(206) 555-3412', 3355, 'Janet has a BS degree in chemistry from Boston College (1984).  She has also completed a certificate program in food retailing management.  Janet was hired as a sales associate in 1991 and promoted to sales representative in February 1992.', 2.0, 'http://accweb/emmployees/leverling.bmp');\n",
      "INSERT INTO Employees VALUES (4, 'Peacock', 'Margaret', 'Sales Representative', 'Mrs.', 1937-09-19 00:00:00, 1993-05-03 00:00:00, '4110 Old Redmond Rd.', 'Redmond', 'WA', '98052', 'USA', '(206) 555-8122', 5176, 'Margaret holds a BA in English literature from Concordia College (1958) and an MA from the American Institute of Culinary Arts (1966).  She was assigned to the London office temporarily from July through November 1992.', 2.0, 'http://accweb/emmployees/peacock.bmp');\n",
      "INSERT INTO Employees VALUES (5, 'BuchaNULL', 'Steven', 'Sales Manager', 'Mr.', 1955-03-04 00:00:00, 1993-10-17 00:00:00, '14 Garrett Hill', 'London', NULL, 'SW1 8JR', 'UK', '(71) 555-4848', 3453, 'Steven BuchaNULL graduated from St. Andrews University, Scotland, with a BSC degree in 1976.  Upon joining the company as a sales representative in 1992, he spent 6 months in an orientation program at the Seattle office and then returned to his permanent post in London.  He was promoted to sales manager in March 1993.  Mr. BuchaNULL has completed the courses \"Successful Telemarketing\" and \"International Sales Management.\"  He is fluent in French.', 2.0, 'http://accweb/emmployees/buchaNULL.bmp');\n",
      "INSERT INTO Employees VALUES (6, 'Suyama', 'Michael', 'Sales Representative', 'Mr.', 1963-07-02 00:00:00, 1993-10-17 00:00:00, 'Coventry House_x000D_\n",
      "Miner Rd.', 'London', NULL, 'EC2 7JR', 'UK', '(71) 555-7773', 428, 'Michael is a graduate of Sussex University (MA, economics, 1983) and the University of California at Los Angeles (MBA, marketing, 1986).  He has also taken the courses \"Multi-Cultural Selling\" and \"Time Management for the Sales Professional.\"  He is fluent in Japanese and can read and write French, Portuguese, and Spanish.', 5.0, 'http://accweb/emmployees/davolio.bmp');\n",
      "INSERT INTO Employees VALUES (7, 'King', 'Robert', 'Sales Representative', 'Mr.', 1960-05-29 00:00:00, 1994-01-02 00:00:00, 'Edgeham Hollow_x000D_\n",
      "Winchester Way', 'London', NULL, 'RG1 9SP', 'UK', '(71) 555-5598', 465, 'Robert King served in the Peace Corps and traveled extensively before completing his degree in English at the University of Michigan in 1992, the year he joined the company.  After completing a course entitled \"Selling in Europe,\" he was transferred to the London office in March 1993.', 5.0, 'http://accweb/emmployees/davolio.bmp');\n",
      "INSERT INTO Employees VALUES (8, 'Callahan', 'Laura', 'Inside Sales Coordinator', 'Ms.', 1958-01-09 00:00:00, 1994-03-05 00:00:00, '4726 - 11th Ave. N.E.', 'Seattle', 'WA', '98105', 'USA', '(206) 555-1189', 2344, 'Laura received a BA in psychology from the University of Washington.  She has also completed a course in business French.  She reads and writes French.', 2.0, 'http://accweb/emmployees/davolio.bmp');\n",
      "INSERT INTO Employees VALUES (9, 'Dodsworth', 'Anne', 'Sales Representative', 'Ms.', 1966-01-27 00:00:00, 1994-11-15 00:00:00, '7 Houndstooth Rd.', 'London', NULL, 'WG2 7LT', 'UK', '(71) 555-4444', 452, 'Anne has a BA degree in English from St. Lawrence College.  She is fluent in French and German.', 5.0, 'http://accweb/emmployees/davolio.bmp');\n"
     ]
    }
   ],
   "source": [
    "print(dataframe_to_sql_insert(df, \"Employees\"))"
   ]
  },
  {
   "cell_type": "code",
   "execution_count": 87,
   "id": "fe6896e9",
   "metadata": {},
   "outputs": [],
   "source": [
    "import pyodbc \n",
    "import json"
   ]
  },
  {
   "cell_type": "code",
   "execution_count": 128,
   "id": "06f9c774",
   "metadata": {},
   "outputs": [],
   "source": [
    "def connect():\n",
    "    \n",
    "    with open('pydb_config.json', 'r') as f:\n",
    "        config = json.load(f)\n",
    "    \n",
    "    DRVIER = f\"DRIVER=\" + config.get(\"driver\")\n",
    "    SERVER = f\"SERVER=\" + config.get(\"server\")\n",
    "    DATABASE = f\"DATABASE=\" + config.get(\"database\")\n",
    "    UID = f\"UID=\" + config.get(\"username\")\n",
    "    PWD = f\"PWD=\" + config.get(\"password\")\n",
    "    ENCRYPT = \"ENCRYPT=yes\"\n",
    "    TRUST = \"TrustServerCertificate=yes\"\n",
    "\n",
    "    connection_params = [DRVIER, SERVER, DATABASE, ENCRYPT, TRUST, UID, PWD]\n",
    "    connection_string = \";\".join(connection_params)\n",
    "    \n",
    "    connection = pyodbc.connect(connection_string, autocommit = True)\n",
    "    \n",
    "    return connection"
   ]
  },
  {
   "cell_type": "code",
   "execution_count": 129,
   "id": "7622c71b",
   "metadata": {},
   "outputs": [],
   "source": [
    "def execute(filename, cursor):\n",
    "    with open(filename, \"r\") as file:\n",
    "        content = file.read()\n",
    "        cursor.execute(content)"
   ]
  },
  {
   "cell_type": "code",
   "execution_count": 130,
   "id": "65c201bc",
   "metadata": {},
   "outputs": [],
   "source": [
    "connection = connect()\n",
    "cursor = connection.cursor()"
   ]
  },
  {
   "cell_type": "code",
   "execution_count": 146,
   "id": "69e489a9",
   "metadata": {},
   "outputs": [],
   "source": [
    "execute(\"database_creation.sql\", cursor)"
   ]
  },
  {
   "cell_type": "code",
   "execution_count": 147,
   "id": "2911f901",
   "metadata": {},
   "outputs": [
    {
     "name": "stdout",
     "output_type": "stream",
     "text": [
      "Table created: Categories\n",
      "Table created: Customers\n",
      "Table created: Employees\n",
      "Table created: OrderDetails\n",
      "Table created: Orders\n",
      "Table created: Products\n",
      "Table created: Region\n",
      "Table created: Shippers\n",
      "Table created: Suppliers\n",
      "Table created: Territories\n"
     ]
    }
   ],
   "source": [
    "\n",
    "\n",
    "for table in TABLES:\n",
    "    execute(f\"create_table_{table}.sql\", cursor)\n",
    "    print(\"Table created:\", table)\n"
   ]
  },
  {
   "cell_type": "code",
   "execution_count": 148,
   "id": "9fa734ca",
   "metadata": {},
   "outputs": [
    {
     "name": "stdout",
     "output_type": "stream",
     "text": [
      "Primary keys added\n",
      "Foreign keys added\n"
     ]
    }
   ],
   "source": [
    "primary_keys_script = \"add_primary_key_constraints.sql\"\n",
    "foreign_keys_script = \"add_foreign_key_constraints.sql\"\n",
    "\n",
    "execute(primary_keys_script, cursor)\n",
    "print(\"Primary keys added\")\n",
    "\n",
    "execute(foreign_keys_script, cursor)\n",
    "print(\"Foreign keys added\")"
   ]
  },
  {
   "cell_type": "code",
   "execution_count": 149,
   "id": "17687f17",
   "metadata": {},
   "outputs": [],
   "source": [
    "# execute(\"drop_foreign_key_constraints.sql\", cursor)"
   ]
  },
  {
   "cell_type": "code",
   "execution_count": null,
   "id": "985ef681",
   "metadata": {},
   "outputs": [],
   "source": []
  }
 ],
 "metadata": {
  "kernelspec": {
   "display_name": "Python 3 (ipykernel)",
   "language": "python",
   "name": "python3"
  },
  "language_info": {
   "codemirror_mode": {
    "name": "ipython",
    "version": 3
   },
   "file_extension": ".py",
   "mimetype": "text/x-python",
   "name": "python",
   "nbconvert_exporter": "python",
   "pygments_lexer": "ipython3",
   "version": "3.9.13"
  }
 },
 "nbformat": 4,
 "nbformat_minor": 5
}
