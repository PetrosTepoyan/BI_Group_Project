{
 "cells": [
  {
   "cell_type": "code",
   "execution_count": 6,
   "metadata": {},
   "outputs": [],
   "source": [
    "import tasks\n",
    "from utils import parse_config\n",
    "\n",
    "configuration = parse_config(\"config\")\n",
    "\n",
    "raw_data = configuration[\"raw_data\"]\n",
    "TABLES = configuration[\"TABLES\"]\n",
    "FACT_TABLES = configuration[\"FACT_TABLES\"]\n",
    "SCD_types = configuration[\"SCD\"]\n",
    "\n",
    "db_master = configuration[\"db_master\"]\n",
    "\n",
    "db_rel = configuration[\"db_rel\"]\n",
    "db_dim = configuration[\"db_dim\"]\n",
    "\n",
    "schema_rel = configuration[\"schema_rel\"]\n",
    "schema_dim = configuration[\"schema_dim\"]"
   ]
  },
  {
   "cell_type": "code",
   "execution_count": null,
   "metadata": {},
   "outputs": [
    {
     "name": "stdout",
     "output_type": "stream",
     "text": [
      "Connection string: DRIVER=/opt/homebrew/lib/libmsodbcsql.18.dylib;SERVER=localhost,1433;DATABASE=master;TrustServerCertificate=yes;UID=sa;PWD=bigStrong1234Password!re\n",
      "Connecting...\r",
      "Connected    \n",
      "\n"
     ]
    }
   ],
   "source": [
    "conn_master = tasks.connect_to(db_master)\n",
    "\n",
    "tasks.drop_database_if_exists(conn_master)\n",
    "tasks.create_database(conn_master)\n",
    "\n",
    "conn_master.close()"
   ]
  },
  {
   "cell_type": "code",
   "execution_count": null,
   "metadata": {
    "azdata_cell_guid": "d4b990fa-edcb-446a-a528-6f5f2ba04334",
    "language": "python"
   },
   "outputs": [],
   "source": [
    "conn_ER = tasks.connect_to(db_rel)\n",
    "\n",
    "tasks.create_database(conn_ER)\n",
    "\n",
    "tasks.drop_constraints_if_exist(conn_ER, db_rel, schema_rel)\n",
    "\n",
    "for table in TABLES:\n",
    "    tasks.drop_table_if_exists(conn_ER, table, db_rel, schema_rel)\n",
    "    tasks.create_table(conn_ER, table, db_rel, schema_rel)\n",
    "    tasks.insert_into_table(conn_ER, raw_data, table, db_rel, schema_rel)\n",
    "\n",
    "tasks.set_constraints(conn_ER, db_rel, schema_rel)\n",
    "\n",
    "conn_ER.close()"
   ]
  },
  {
   "cell_type": "code",
   "execution_count": null,
   "metadata": {
    "scrolled": false
   },
   "outputs": [],
   "source": [
    "conn_DW = tasks.connect_to(db_dim)\n",
    "\n",
    "for table, SCD_type in SCD_types.items():\n",
    "    \n",
    "    tasks.drop_dim_table_if_exists(conn_DW, table, SCD_type, db_dim, schema_dim)\n",
    "    \n",
    "    tasks.create_dim_table(conn_DW, table, SCD_type, db_dim, schema_dim)\n",
    "    \n",
    "    tasks.update_dim_table(conn_DW, table, SCD_type, db_dim, db_rel, schema_dim, schema_rel)\n",
    "\n",
    "\n",
    "conn_DW.close()"
   ]
  },
  {
   "cell_type": "code",
   "execution_count": null,
   "metadata": {},
   "outputs": [],
   "source": [
    "conn_DW = tasks.connect_to(db_dim)\n",
    "for fact_table in FACT_TABLES:\n",
    "    tasks.drop_fact_table_if_exists(conn_DW, fact_table, db_dim, schema_dim)\n",
    "    tasks.create_fact_table(conn_DW, fact_table, db_dim, schema_dim)\n",
    "    tasks.update_fact_table(conn_DW, fact_table, db_dim, db_rel, schema_dim, schema_rel)\n",
    "    \n",
    "conn_DW.close()"
   ]
  },
  {
   "cell_type": "code",
   "execution_count": null,
   "metadata": {},
   "outputs": [],
   "source": []
  }
 ],
 "metadata": {
  "kernelspec": {
   "display_name": "Python 3 (ipykernel)",
   "language": "python",
   "name": "python3"
  },
  "language_info": {
   "codemirror_mode": {
    "name": "ipython",
    "version": 3
   },
   "file_extension": ".py",
   "mimetype": "text/x-python",
   "name": "python",
   "nbconvert_exporter": "python",
   "pygments_lexer": "ipython3",
   "version": "3.9.13"
  }
 },
 "nbformat": 4,
 "nbformat_minor": 2
}
