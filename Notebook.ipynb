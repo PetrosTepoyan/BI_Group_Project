{
 "cells": [
  {
   "cell_type": "code",
   "execution_count": null,
   "metadata": {
    "azdata_cell_guid": "48b66c5f-1484-452f-8eac-707e39086fa5",
    "language": "python"
   },
   "outputs": [],
   "source": [
    "from logging import Logger\n",
    "log = Logger(\"tasks.py\")\n",
    "log.log(0, \"Hello\")"
   ]
  },
  {
   "cell_type": "code",
   "execution_count": null,
   "metadata": {
    "azdata_cell_guid": "72a1e1c7-94f5-475c-8aba-f5ede2bb5532",
    "language": "python"
   },
   "outputs": [],
   "source": [
    "import tasks\n",
    "\n",
    "if __name__ == \"__main__\":\n",
    "\n",
    "    db = \"Orders_RELATIONAL_DB\"\n",
    "    schema = \"dbo\"\n",
    "    raw_data = \"raw_data_source.xlsx\"\n",
    "\n",
    "    conn_ER = tasks.connect()\n",
    "\n",
    "    tasks.create_database(conn_ER, db)\n",
    "    \n",
    "    tasks.drop_constraints(conn_ER, db, schema)\n",
    "    \n",
    "    for table in tasks.TABLES:    \n",
    "        tasks.drop_table(conn_ER, table, db, schema)\n",
    "        tasks.create_table(conn_ER, table, db, schema)\n",
    "        tasks.insert_into_table(conn_ER, raw_data, table, db, schema)\n",
    "    \n",
    "    tasks.set_constraints(conn_ER, db, schema)\n",
    "\n",
    "    conn_ER.close()\n"
   ]
  },
  {
   "cell_type": "code",
   "execution_count": 1,
   "metadata": {
    "azdata_cell_guid": "d4b990fa-edcb-446a-a528-6f5f2ba04334",
    "language": "python"
   },
   "outputs": [
    {
     "name": "stdout",
     "output_type": "stream",
     "text": [
      "Darwin\n"
     ]
    },
    {
     "ename": "UnboundLocalError",
     "evalue": "local variable 'TRUSTED_CONNECTION' referenced before assignment",
     "output_type": "error",
     "traceback": [
      "\u001b[0;31m---------------------------------------------------------------------------\u001b[0m",
      "\u001b[0;31mUnboundLocalError\u001b[0m                         Traceback (most recent call last)",
      "Input \u001b[0;32mIn [1]\u001b[0m, in \u001b[0;36m<cell line: 4>\u001b[0;34m()\u001b[0m\n\u001b[1;32m     10\u001b[0m raw_data \u001b[38;5;241m=\u001b[39m config\u001b[38;5;241m.\u001b[39mget(\u001b[38;5;124m\"\u001b[39m\u001b[38;5;124mraw_data\u001b[39m\u001b[38;5;124m\"\u001b[39m)\n\u001b[1;32m     11\u001b[0m TABLES \u001b[38;5;241m=\u001b[39m config\u001b[38;5;241m.\u001b[39mget(\u001b[38;5;124m\"\u001b[39m\u001b[38;5;124mTABLES\u001b[39m\u001b[38;5;124m\"\u001b[39m)\n\u001b[0;32m---> 13\u001b[0m conn_ER \u001b[38;5;241m=\u001b[39m \u001b[43mtasks\u001b[49m\u001b[38;5;241;43m.\u001b[39;49m\u001b[43mconnect\u001b[49m\u001b[43m(\u001b[49m\u001b[43m)\u001b[49m\n\u001b[1;32m     15\u001b[0m tasks\u001b[38;5;241m.\u001b[39mcreate_database(conn_ER, db)\n\u001b[1;32m     17\u001b[0m tasks\u001b[38;5;241m.\u001b[39mdrop_constraints_if_exist(conn_ER, db, schema)\n",
      "File \u001b[0;32m~/Desktop/Business Intelligence/BI_Group_Project/tasks.py:11\u001b[0m, in \u001b[0;36mconnect\u001b[0;34m()\u001b[0m\n\u001b[1;32m      9\u001b[0m \u001b[38;5;28;01mdef\u001b[39;00m \u001b[38;5;21mconnect\u001b[39m():\n\u001b[0;32m---> 11\u001b[0m     connection_string \u001b[38;5;241m=\u001b[39m \u001b[43mget_connection_string\u001b[49m\u001b[43m(\u001b[49m\u001b[43m)\u001b[49m\n\u001b[1;32m     12\u001b[0m     connection \u001b[38;5;241m=\u001b[39m pyodbc\u001b[38;5;241m.\u001b[39mconnect(connection_string, autocommit \u001b[38;5;241m=\u001b[39m \u001b[38;5;28;01mTrue\u001b[39;00m)\n\u001b[1;32m     14\u001b[0m     \u001b[38;5;28;01mreturn\u001b[39;00m connection\n",
      "File \u001b[0;32m~/Desktop/Business Intelligence/BI_Group_Project/utils.py:34\u001b[0m, in \u001b[0;36mget_connection_string\u001b[0;34m()\u001b[0m\n\u001b[1;32m     31\u001b[0m ENCRYPT \u001b[38;5;241m=\u001b[39m \u001b[38;5;124m\"\u001b[39m\u001b[38;5;124mENCRYPT=yes\u001b[39m\u001b[38;5;124m\"\u001b[39m\n\u001b[1;32m     32\u001b[0m TRUST \u001b[38;5;241m=\u001b[39m \u001b[38;5;124m\"\u001b[39m\u001b[38;5;124mTrustServerCertificate=yes\u001b[39m\u001b[38;5;124m\"\u001b[39m\n\u001b[0;32m---> 34\u001b[0m connection_params \u001b[38;5;241m=\u001b[39m [DRVIER, SERVER, DATABASE, \u001b[43mTRUSTED_CONNECTION\u001b[49m, UID, PWD]\n\u001b[1;32m     35\u001b[0m connection_string \u001b[38;5;241m=\u001b[39m \u001b[38;5;124m\"\u001b[39m\u001b[38;5;124m;\u001b[39m\u001b[38;5;124m\"\u001b[39m\u001b[38;5;241m.\u001b[39mjoin(connection_params)\n\u001b[1;32m     36\u001b[0m \u001b[38;5;28;01mreturn\u001b[39;00m connection_string\n",
      "\u001b[0;31mUnboundLocalError\u001b[0m: local variable 'TRUSTED_CONNECTION' referenced before assignment"
     ]
    }
   ],
   "source": [
    "import tasks\n",
    "from utils import parse_config\n",
    "\n",
    "if __name__ == \"__main__\":\n",
    "\n",
    "    config = parse_config(\"config\")\n",
    "\n",
    "    db = config.get(\"db\")\n",
    "    schema = config.get(\"schema\")\n",
    "    raw_data = config.get(\"raw_data\")\n",
    "    TABLES = config.get(\"TABLES\")\n",
    "\n",
    "    conn_ER = tasks.connect()\n",
    "\n",
    "    tasks.create_database(conn_ER, db)\n",
    "\n",
    "    tasks.drop_constraints_if_exist(conn_ER, db, schema)\n",
    "\n",
    "    for table in TABLES:\n",
    "        tasks.drop_table_if_exists(conn_ER, table, db, schema)\n",
    "        tasks.create_table(conn_ER, table, db, schema)\n",
    "        tasks.insert_into_table(conn_ER, raw_data, table, db, schema)\n",
    "\n",
    "    tasks.set_constraints(conn_ER, db, schema)\n",
    "\n",
    "    conn_ER.close()\n",
    "\n",
    "    #     conn_Dim = tasks.connect_db_create_cursor(\"Database2\")\n",
    "    #     tasks.drop_table(conn_Dim, 'dim_people_scd1', 'Orders_DW', 'dbo')\n",
    "    #     tasks.create_table(conn_Dim, 'dim_people_scd1', 'Orders_DW', 'dbo')\n",
    "    #     tasks.update_dim_table(conn_Dim, 'dim_people_scd1', 'Orders_DW', 'dbo',\n",
    "    #                            'people', 'Orders_ER', 'dbo')\n",
    "\n",
    "    #     conn_ER.close()\n",
    "    #     conn_Dim.close()\n",
    "\n",
    "\n"
   ]
  },
  {
   "cell_type": "code",
   "execution_count": null,
   "metadata": {},
   "outputs": [],
   "source": []
  }
 ],
 "metadata": {
  "kernelspec": {
   "display_name": "Python 3 (ipykernel)",
   "language": "python",
   "name": "python3"
  },
  "language_info": {
   "codemirror_mode": {
    "name": "ipython",
    "version": 3
   },
   "file_extension": ".py",
   "mimetype": "text/x-python",
   "name": "python",
   "nbconvert_exporter": "python",
   "pygments_lexer": "ipython3",
   "version": "3.9.13"
  }
 },
 "nbformat": 4,
 "nbformat_minor": 2
}
