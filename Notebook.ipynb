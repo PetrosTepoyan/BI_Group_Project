{
 "cells": [
  {
   "cell_type": "code",
   "execution_count": 3,
   "id": "26366f8e",
   "metadata": {},
   "outputs": [
    {
     "name": "stdout",
     "output_type": "stream",
     "text": [
      "The dbo.Categories table from the database Orders_RELATIONAL_DB has been dropped\n",
      "The dbo.Categories table from the database Orders_RELATIONAL_DB has been created\n",
      "Inserting into Categories...\n",
      "8 rows have been inserted into the Orders_RELATIONAL_DB.dbo.Categories table\n",
      "\n",
      "The dbo.Customers table from the database Orders_RELATIONAL_DB has been dropped\n",
      "The dbo.Customers table from the database Orders_RELATIONAL_DB has been created\n",
      "Inserting into Customers...\n",
      "91 rows have been inserted into the Orders_RELATIONAL_DB.dbo.Customers table\n",
      "\n",
      "The dbo.Employees table from the database Orders_RELATIONAL_DB has been dropped\n",
      "The dbo.Employees table from the database Orders_RELATIONAL_DB has been created\n",
      "Inserting into Employees...\n",
      "9 rows have been inserted into the Orders_RELATIONAL_DB.dbo.Employees table\n",
      "\n",
      "The dbo.Suppliers table from the database Orders_RELATIONAL_DB has been dropped\n",
      "The dbo.Suppliers table from the database Orders_RELATIONAL_DB has been created\n",
      "Inserting into Suppliers...\n",
      "29 rows have been inserted into the Orders_RELATIONAL_DB.dbo.Suppliers table\n",
      "\n",
      "The dbo.Products table from the database Orders_RELATIONAL_DB has been dropped\n",
      "The dbo.Products table from the database Orders_RELATIONAL_DB has been created\n",
      "Inserting into Products...\n",
      "77 rows have been inserted into the Orders_RELATIONAL_DB.dbo.Products table\n",
      "\n",
      "The dbo.Region table from the database Orders_RELATIONAL_DB has been dropped\n",
      "The dbo.Region table from the database Orders_RELATIONAL_DB has been created\n",
      "Inserting into Region...\n",
      "4 rows have been inserted into the Orders_RELATIONAL_DB.dbo.Region table\n",
      "\n",
      "The dbo.Shippers table from the database Orders_RELATIONAL_DB has been dropped\n",
      "The dbo.Shippers table from the database Orders_RELATIONAL_DB has been created\n",
      "Inserting into Shippers...\n",
      "3 rows have been inserted into the Orders_RELATIONAL_DB.dbo.Shippers table\n",
      "\n",
      "The dbo.Territories table from the database Orders_RELATIONAL_DB has been dropped\n",
      "The dbo.Territories table from the database Orders_RELATIONAL_DB has been created\n",
      "Inserting into Territories...\n",
      "53 rows have been inserted into the Orders_RELATIONAL_DB.dbo.Territories table\n",
      "\n",
      "The dbo.Orders table from the database Orders_RELATIONAL_DB has been dropped\n",
      "The dbo.Orders table from the database Orders_RELATIONAL_DB has been created\n",
      "Inserting into Orders...\n",
      "830 rows have been inserted into the Orders_RELATIONAL_DB.dbo.Orders table\n",
      "\n",
      "The dbo.OrderDetails table from the database Orders_RELATIONAL_DB has been dropped\n",
      "The dbo.OrderDetails table from the database Orders_RELATIONAL_DB has been created\n",
      "Inserting into OrderDetails...\n",
      "2155 rows have been inserted into the Orders_RELATIONAL_DB.dbo.OrderDetails table\n",
      "\n",
      "Added primary key constraints\n",
      "Added foriegn key constraints\n"
     ]
    }
   ],
   "source": [
    "import tasks\n",
    "\n",
    "if __name__ == \"__main__\":\n",
    "\n",
    "    db = \"Orders_RELATIONAL_DB\"\n",
    "    schema = \"dbo\"\n",
    "    raw_data = \"raw_data_source.xlsx\"\n",
    "\n",
    "    conn_ER = tasks.connect()\n",
    "\n",
    "    tasks.create_database(conn_ER, db)\n",
    "    \n",
    "    tasks.drop_constraints(conn_ER, db, schema)\n",
    "    \n",
    "    for table in tasks.TABLES:    \n",
    "        tasks.drop_table(conn_ER, table, db, schema)\n",
    "        tasks.create_table(conn_ER, table, db, schema)\n",
    "        tasks.insert_into_table(conn_ER, raw_data, table, db, schema)\n",
    "    \n",
    "    tasks.set_constraints(conn_ER, db, schema)\n",
    "\n",
    "    conn_ER.close()\n"
   ]
  }
 ],
 "metadata": {
  "kernelspec": {
   "display_name": "Python 3 (ipykernel)",
   "language": "python",
   "name": "python3"
  },
  "language_info": {
   "codemirror_mode": {
    "name": "ipython",
    "version": 3
   },
   "file_extension": ".py",
   "mimetype": "text/x-python",
   "name": "python",
   "nbconvert_exporter": "python",
   "pygments_lexer": "ipython3",
   "version": "3.9.13"
  }
 },
 "nbformat": 4,
 "nbformat_minor": 5
}
