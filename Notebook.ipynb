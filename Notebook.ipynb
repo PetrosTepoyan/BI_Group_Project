{
 "cells": [
  {
   "cell_type": "code",
   "execution_count": 9,
   "metadata": {},
   "outputs": [],
   "source": [
    "import tasks\n",
    "from utils import parse_config\n",
    "\n",
    "configuration = parse_config(\"config\")\n",
    "\n",
    "raw_data = configuration[\"raw_data\"]\n",
    "TABLES = configuration[\"TABLES\"]\n",
    "FACT_TABLES = configuration[\"FACT_TABLES\"]\n",
    "SCD_types = configuration[\"SCD\"]\n",
    "\n",
    "db_master = configuration[\"db_master\"]\n",
    "\n",
    "db_rel = configuration[\"db_rel\"]\n",
    "db_dim = configuration[\"db_dim\"]\n",
    "\n",
    "schema_rel = configuration[\"schema_rel\"]\n",
    "schema_dim = configuration[\"schema_dim\"]"
   ]
  },
  {
   "cell_type": "code",
   "execution_count": 10,
   "metadata": {},
   "outputs": [
    {
     "name": "stdout",
     "output_type": "stream",
     "text": [
      "Connection string: DRIVER=/opt/homebrew/lib/libmsodbcsql.18.dylib;SERVER=localhost,1433;DATABASE=master;TrustServerCertificate=yes;UID=sa;PWD=bigStrong1234Password!re\n",
      "Connected    \n",
      "\n",
      "Dropped databases\n",
      "Created databases\n"
     ]
    }
   ],
   "source": [
    "conn_master = tasks.connect_to(db_master)\n",
    "\n",
    "tasks.drop_database_if_exists(conn_master)\n",
    "tasks.create_database(conn_master)\n",
    "\n",
    "conn_master.close()"
   ]
  },
  {
   "cell_type": "code",
   "execution_count": 11,
   "metadata": {
    "azdata_cell_guid": "d4b990fa-edcb-446a-a528-6f5f2ba04334",
    "language": "python"
   },
   "outputs": [
    {
     "name": "stdout",
     "output_type": "stream",
     "text": [
      "Connection string: DRIVER=/opt/homebrew/lib/libmsodbcsql.18.dylib;SERVER=localhost,1433;DATABASE=Orders_RELATIONAL_DB;TrustServerCertificate=yes;UID=sa;PWD=bigStrong1234Password!re\n",
      "Connected    \n",
      "\n",
      "Created databases\n",
      "The dbo.Categories table from the database Orders_RELATIONAL_DB has been dropped\n",
      "The dbo.Categories table from the database Orders_RELATIONAL_DB has been created\n",
      "Inserting into Categories...\n",
      "8 rows have been inserted into the Orders_RELATIONAL_DB.dbo.Categories table\n",
      "\n",
      "The dbo.Customers table from the database Orders_RELATIONAL_DB has been dropped\n",
      "The dbo.Customers table from the database Orders_RELATIONAL_DB has been created\n",
      "Inserting into Customers...\n",
      "91 rows have been inserted into the Orders_RELATIONAL_DB.dbo.Customers table\n",
      "\n",
      "The dbo.Employees table from the database Orders_RELATIONAL_DB has been dropped\n",
      "The dbo.Employees table from the database Orders_RELATIONAL_DB has been created\n",
      "Inserting into Employees...\n",
      "9 rows have been inserted into the Orders_RELATIONAL_DB.dbo.Employees table\n",
      "\n",
      "The dbo.Suppliers table from the database Orders_RELATIONAL_DB has been dropped\n",
      "The dbo.Suppliers table from the database Orders_RELATIONAL_DB has been created\n",
      "Inserting into Suppliers...\n",
      "29 rows have been inserted into the Orders_RELATIONAL_DB.dbo.Suppliers table\n",
      "\n",
      "The dbo.Products table from the database Orders_RELATIONAL_DB has been dropped\n",
      "The dbo.Products table from the database Orders_RELATIONAL_DB has been created\n",
      "Inserting into Products...\n",
      "77 rows have been inserted into the Orders_RELATIONAL_DB.dbo.Products table\n",
      "\n",
      "The dbo.Region table from the database Orders_RELATIONAL_DB has been dropped\n",
      "The dbo.Region table from the database Orders_RELATIONAL_DB has been created\n",
      "Inserting into Region...\n",
      "4 rows have been inserted into the Orders_RELATIONAL_DB.dbo.Region table\n",
      "\n",
      "The dbo.Shippers table from the database Orders_RELATIONAL_DB has been dropped\n",
      "The dbo.Shippers table from the database Orders_RELATIONAL_DB has been created\n",
      "Inserting into Shippers...\n",
      "3 rows have been inserted into the Orders_RELATIONAL_DB.dbo.Shippers table\n",
      "\n",
      "The dbo.Territories table from the database Orders_RELATIONAL_DB has been dropped\n",
      "The dbo.Territories table from the database Orders_RELATIONAL_DB has been created\n",
      "Inserting into Territories...\n",
      "53 rows have been inserted into the Orders_RELATIONAL_DB.dbo.Territories table\n",
      "\n",
      "The dbo.Orders table from the database Orders_RELATIONAL_DB has been dropped\n",
      "The dbo.Orders table from the database Orders_RELATIONAL_DB has been created\n",
      "Inserting into Orders...\n",
      "830 rows have been inserted into the Orders_RELATIONAL_DB.dbo.Orders table\n",
      "\n",
      "The dbo.OrderDetails table from the database Orders_RELATIONAL_DB has been dropped\n",
      "The dbo.OrderDetails table from the database Orders_RELATIONAL_DB has been created\n",
      "Inserting into OrderDetails...\n",
      "2155 rows have been inserted into the Orders_RELATIONAL_DB.dbo.OrderDetails table\n",
      "\n",
      "Added primary key constraints\n",
      "Added foriegn key constraints\n"
     ]
    }
   ],
   "source": [
    "conn_ER = tasks.connect_to(db_rel)\n",
    "\n",
    "tasks.create_database(conn_ER)\n",
    "\n",
    "tasks.drop_constraints_if_exist(conn_ER, db_rel, schema_rel)\n",
    "\n",
    "for table in TABLES:\n",
    "    tasks.drop_table_if_exists(conn_ER, table, db_rel, schema_rel)\n",
    "    tasks.create_table(conn_ER, table, db_rel, schema_rel)\n",
    "    tasks.insert_into_table(conn_ER, raw_data, table, db_rel, schema_rel)\n",
    "\n",
    "tasks.set_constraints(conn_ER, db_rel, schema_rel)\n",
    "\n",
    "conn_ER.close()"
   ]
  },
  {
   "cell_type": "code",
   "execution_count": 12,
   "metadata": {
    "scrolled": false
   },
   "outputs": [
    {
     "name": "stdout",
     "output_type": "stream",
     "text": [
      "Connection string: DRIVER=/opt/homebrew/lib/libmsodbcsql.18.dylib;SERVER=localhost,1433;DATABASE=Orders_DIMENSIONAL_DW;TrustServerCertificate=yes;UID=sa;PWD=bigStrong1234Password!re\n",
      "Connected    \n",
      "\n",
      "The dbo.dim_Categories_SCD3 table from the database Orders_DIMENSIONAL_DW has been dropped\n",
      "The dbo.dim_Categories_SCD3 table from the database Orders_DIMENSIONAL_DW has been created\n",
      "\n",
      "Executing Categories_SCD3...\n",
      "Updated dim table Categories_SCD3\n",
      "\n",
      "The dbo.dim_Customers_SCD3 table from the database Orders_DIMENSIONAL_DW has been dropped\n",
      "The dbo.dim_Customers_SCD3 table from the database Orders_DIMENSIONAL_DW has been created\n",
      "\n",
      "Executing Customers_SCD3...\n",
      "Updated dim table Customers_SCD3\n",
      "\n",
      "The dbo.dim_Employees_SCD2 table from the database Orders_DIMENSIONAL_DW has been dropped\n",
      "The dbo.dim_Employees_SCD2 table from the database Orders_DIMENSIONAL_DW has been created\n",
      "\n",
      "Executing Employees_SCD2...\n",
      "Updated dim table Employees_SCD2\n",
      "\n",
      "The dbo.dim_Products_SCD4 table from the database Orders_DIMENSIONAL_DW has been dropped\n",
      "The dbo.dim_Products_SCD4 table from the database Orders_DIMENSIONAL_DW has been created\n",
      "\n",
      "Executing Products_SCD4...\n",
      "Updated dim table Products_SCD4\n",
      "\n",
      "The dbo.dim_Region_SCD1_with_delete table from the database Orders_DIMENSIONAL_DW has been dropped\n",
      "The dbo.dim_Region_SCD1_with_delete table from the database Orders_DIMENSIONAL_DW has been created\n",
      "\n",
      "Executing Region_SCD1_with_delete...\n",
      "Updated dim table Region_SCD1_with_delete\n",
      "\n",
      "The dbo.dim_Shippers_SCD3 table from the database Orders_DIMENSIONAL_DW has been dropped\n",
      "The dbo.dim_Shippers_SCD3 table from the database Orders_DIMENSIONAL_DW has been created\n",
      "\n",
      "Executing Shippers_SCD3...\n",
      "Updated dim table Shippers_SCD3\n",
      "\n",
      "The dbo.dim_Suppliers_SCD1_with_delete table from the database Orders_DIMENSIONAL_DW has been dropped\n",
      "The dbo.dim_Suppliers_SCD1_with_delete table from the database Orders_DIMENSIONAL_DW has been created\n",
      "\n",
      "Executing Suppliers_SCD1_with_delete...\n",
      "Updated dim table Suppliers_SCD1_with_delete\n",
      "\n",
      "The dbo.dim_Territories_SCD3 table from the database Orders_DIMENSIONAL_DW has been dropped\n",
      "The dbo.dim_Territories_SCD3 table from the database Orders_DIMENSIONAL_DW has been created\n",
      "\n",
      "Executing Territories_SCD3...\n",
      "Updated dim table Territories_SCD3\n",
      "\n",
      "The dbo.fact_Orders table from the database Orders_DIMENSIONAL_DW has been dropped\n",
      "The dbo.Orders table from the database Orders_DIMENSIONAL_DW has been created\n",
      "The dbo.Orders table from the database Orders_DIMENSIONAL_DW has been updated\n"
     ]
    }
   ],
   "source": [
    "conn_DW = tasks.connect_to(db_dim)\n",
    "\n",
    "for table, SCD_type in SCD_types.items():\n",
    "    \n",
    "    tasks.drop_dim_table_if_exists(conn_DW, table, SCD_type, db_dim, schema_dim)\n",
    "    \n",
    "    tasks.create_dim_table(conn_DW, table, SCD_type, db_dim, schema_dim)\n",
    "    \n",
    "    tasks.update_dim_table(conn_DW, table, SCD_type, db_dim, db_rel, schema_dim, schema_rel)\n",
    "\n",
    "for fact_table in FACT_TABLES:\n",
    "    tasks.drop_fact_table_if_exists(conn_DW, fact_table, db_dim, schema_dim)\n",
    "    tasks.create_fact_table(conn_DW, fact_table, db_dim, schema_dim)\n",
    "    tasks.update_fact_table(conn_DW, fact_table, db_dim, db_rel, schema_dim, schema_rel)\n",
    "\n",
    "conn_DW.close()"
   ]
  },
  {
   "cell_type": "code",
   "execution_count": 13,
   "metadata": {},
   "outputs": [
    {
     "name": "stdout",
     "output_type": "stream",
     "text": [
      "Connection string: DRIVER=/opt/homebrew/lib/libmsodbcsql.18.dylib;SERVER=localhost,1433;DATABASE=Orders_RELATIONAL_DB;TrustServerCertificate=yes;UID=sa;PWD=bigStrong1234Password!re\n",
      "Connected    \n",
      "\n",
      "[(1581, 'Westboro', 1), (1730, 'Bedford', 1), (1833, 'Georgetow', 1), (2116, 'Boston', 1), (2139, 'Cambridge', 1), (2184, 'Braintree', 1), (2903, 'Providence', 1), (3049, 'Hollis', 3), (3801, 'Portsmouth', 3), (6897, 'Wilton', 1), (7960, 'Morristown', 1), (8837, 'Edison', 1), (10019, 'New York', 1), (10038, 'New York', 1), (11747, 'Mellvile', 1), (14450, 'Fairport', 1), (19428, 'Philadelphia', 3), (19713, 'Neward', 1), (20852, 'Rockville', 1), (27403, 'Greensboro', 1), (27511, 'Cary', 1), (29202, 'Columbia', 4), (30346, 'Atlanta', 4), (31406, 'Savannah', 4), (32859, 'Orlando', 4), (33607, 'Tampa', 4), (40222, 'Louisville', 1), (44122, 'Beachwood', 3), (45839, 'Findlay', 3), (48075, 'Southfield', 3), (48084, 'Troy', 3), (48304, 'Bloomfield Hills', 3), (53404, 'Racine', 3), (55113, 'Roseville', 3), (55439, 'Minneapolis', 3), (60179, 'Hoffman Estates', 2), (60601, 'Chicago', 2), (72716, 'Bentonville', 4), (75234, 'Dallas', 4), (78759, 'Austin', 4), (80202, 'Denver', 2), (80909, 'Colorado Springs', 2), (85014, 'Phoenix', 2), (85251, 'Scottsdale', 2), (90405, 'Santa Monica', 2), (94025, 'Menlo Park', 2), (94105, 'San Francisco', 2), (95008, 'Campbell', 2), (95054, 'Santa Clara', 2), (95060, 'Santa Cruz', 2), (98004, 'Bellevue', 2), (98052, 'Redmond', 2), (98104, 'Seattle', 2)]\n"
     ]
    }
   ],
   "source": [
    "conn_ER = tasks.connect_to(db_rel)\n",
    "exec_cursor = conn_ER.execute(\"select * from dbo.Territories\")\n",
    "print(exec_cursor.fetchall())\n",
    "conn_ER.close()"
   ]
  },
  {
   "cell_type": "code",
   "execution_count": 14,
   "metadata": {},
   "outputs": [],
   "source": [
    "import csv\n",
    "import os\n",
    "\n",
    "def write_csv_to_file(db, schema, table):\n",
    "\n",
    "    tablename = f\"{db}.{schema}.{table}\"\n",
    "    filename = f'blobs/{tablename}.csv'\n",
    "\n",
    "    conn = tasks.connect_to(db)\n",
    "    conn_cursor = conn.cursor()\n",
    "    rows = conn_cursor.execute(f\"select * from {tablename}\")\n",
    "    \n",
    "    os.makedirs(os.path.dirname(filename), exist_ok = True)\n",
    "    \n",
    "    with open(filename, 'w', newline='') as csvfile:\n",
    "        writer = csv.writer(csvfile)\n",
    "        row = [x[0] for x in conn_cursor.description]\n",
    "        writer.writerow(row)  # column headers\n",
    "        for row in rows:\n",
    "            writer.writerow(row)\n",
    "\n",
    "    conn.close()"
   ]
  },
  {
   "cell_type": "code",
   "execution_count": 15,
   "metadata": {},
   "outputs": [
    {
     "name": "stdout",
     "output_type": "stream",
     "text": [
      "dim_Categories_SCD3\n",
      "Connection string: DRIVER=/opt/homebrew/lib/libmsodbcsql.18.dylib;SERVER=localhost,1433;DATABASE=Orders_DIMENSIONAL_DW;TrustServerCertificate=yes;UID=sa;PWD=bigStrong1234Password!re\n",
      "Connected    \n",
      "\n",
      "dim_Customers_SCD3\n",
      "Connection string: DRIVER=/opt/homebrew/lib/libmsodbcsql.18.dylib;SERVER=localhost,1433;DATABASE=Orders_DIMENSIONAL_DW;TrustServerCertificate=yes;UID=sa;PWD=bigStrong1234Password!re\n",
      "Connected    \n",
      "\n",
      "dim_Employees_SCD2\n",
      "Connection string: DRIVER=/opt/homebrew/lib/libmsodbcsql.18.dylib;SERVER=localhost,1433;DATABASE=Orders_DIMENSIONAL_DW;TrustServerCertificate=yes;UID=sa;PWD=bigStrong1234Password!re\n",
      "Connected    \n",
      "\n",
      "dim_Products_SCD4\n",
      "Connection string: DRIVER=/opt/homebrew/lib/libmsodbcsql.18.dylib;SERVER=localhost,1433;DATABASE=Orders_DIMENSIONAL_DW;TrustServerCertificate=yes;UID=sa;PWD=bigStrong1234Password!re\n",
      "Connected    \n",
      "\n",
      "dim_Region_SCD1_with_delete\n",
      "Connection string: DRIVER=/opt/homebrew/lib/libmsodbcsql.18.dylib;SERVER=localhost,1433;DATABASE=Orders_DIMENSIONAL_DW;TrustServerCertificate=yes;UID=sa;PWD=bigStrong1234Password!re\n",
      "Connected    \n",
      "\n",
      "dim_Shippers_SCD3\n",
      "Connection string: DRIVER=/opt/homebrew/lib/libmsodbcsql.18.dylib;SERVER=localhost,1433;DATABASE=Orders_DIMENSIONAL_DW;TrustServerCertificate=yes;UID=sa;PWD=bigStrong1234Password!re\n",
      "Connected    \n",
      "\n",
      "dim_Suppliers_SCD1_with_delete\n",
      "Connection string: DRIVER=/opt/homebrew/lib/libmsodbcsql.18.dylib;SERVER=localhost,1433;DATABASE=Orders_DIMENSIONAL_DW;TrustServerCertificate=yes;UID=sa;PWD=bigStrong1234Password!re\n",
      "Connected    \n",
      "\n",
      "dim_Territories_SCD3\n",
      "Connection string: DRIVER=/opt/homebrew/lib/libmsodbcsql.18.dylib;SERVER=localhost,1433;DATABASE=Orders_DIMENSIONAL_DW;TrustServerCertificate=yes;UID=sa;PWD=bigStrong1234Password!re\n",
      "Connected    \n",
      "\n"
     ]
    }
   ],
   "source": [
    "for table, SCD_type in SCD_types.items():\n",
    "    table_name = f\"dim_{table}_{SCD_type}\"\n",
    "    print(table_name)\n",
    "    write_csv_to_file(db_dim, schema_dim, table_name)"
   ]
  },
  {
   "cell_type": "code",
   "execution_count": 16,
   "metadata": {},
   "outputs": [
    {
     "name": "stdout",
     "output_type": "stream",
     "text": [
      "fact_Orders\n",
      "Connection string: DRIVER=/opt/homebrew/lib/libmsodbcsql.18.dylib;SERVER=localhost,1433;DATABASE=Orders_DIMENSIONAL_DW;TrustServerCertificate=yes;UID=sa;PWD=bigStrong1234Password!re\n",
      "Connected    \n",
      "\n"
     ]
    }
   ],
   "source": [
    "for table in FACT_TABLES:\n",
    "    table_name = f\"fact_{table}\"\n",
    "    print(table_name)\n",
    "    write_csv_to_file(db_dim, schema_dim, table_name)"
   ]
  },
  {
   "cell_type": "code",
   "execution_count": 17,
   "metadata": {},
   "outputs": [
    {
     "name": "stdout",
     "output_type": "stream",
     "text": [
      "Connection string: DRIVER=/opt/homebrew/lib/libmsodbcsql.18.dylib;SERVER=localhost,1433;DATABASE=Orders_DIMENSIONAL_DW;TrustServerCertificate=yes;UID=sa;PWD=bigStrong1234Password!re\n",
      "Connecting...\r",
      "Connected    \n",
      "\n"
     ]
    }
   ],
   "source": [
    "write_csv_to_file(db_dim, schema_dim, \"dim_Products_SCD4_History\")"
   ]
  },
  {
   "cell_type": "code",
   "execution_count": 18,
   "metadata": {},
   "outputs": [
    {
     "data": {
      "text/html": [
       "<div>\n",
       "<style scoped>\n",
       "    .dataframe tbody tr th:only-of-type {\n",
       "        vertical-align: middle;\n",
       "    }\n",
       "\n",
       "    .dataframe tbody tr th {\n",
       "        vertical-align: top;\n",
       "    }\n",
       "\n",
       "    .dataframe thead th {\n",
       "        text-align: right;\n",
       "    }\n",
       "</style>\n",
       "<table border=\"1\" class=\"dataframe\">\n",
       "  <thead>\n",
       "    <tr style=\"text-align: right;\">\n",
       "      <th></th>\n",
       "      <th>CategoryID_SK</th>\n",
       "      <th>CategoryID_NK</th>\n",
       "      <th>CategoryName</th>\n",
       "      <th>Description</th>\n",
       "      <th>Description_Prev1</th>\n",
       "      <th>Description_Prev1_ValidTo</th>\n",
       "    </tr>\n",
       "  </thead>\n",
       "  <tbody>\n",
       "    <tr>\n",
       "      <th>0</th>\n",
       "      <td>1</td>\n",
       "      <td>1</td>\n",
       "      <td>Beverages</td>\n",
       "      <td>Soft drinks, coffees, teas, beers, and ales</td>\n",
       "      <td>NaN</td>\n",
       "      <td>NaN</td>\n",
       "    </tr>\n",
       "    <tr>\n",
       "      <th>1</th>\n",
       "      <td>2</td>\n",
       "      <td>2</td>\n",
       "      <td>Condiments</td>\n",
       "      <td>Sweet and savory sauces, relishes, spreads, an...</td>\n",
       "      <td>NaN</td>\n",
       "      <td>NaN</td>\n",
       "    </tr>\n",
       "    <tr>\n",
       "      <th>2</th>\n",
       "      <td>3</td>\n",
       "      <td>3</td>\n",
       "      <td>Confections</td>\n",
       "      <td>Desserts, candies, and sweet breads</td>\n",
       "      <td>NaN</td>\n",
       "      <td>NaN</td>\n",
       "    </tr>\n",
       "    <tr>\n",
       "      <th>3</th>\n",
       "      <td>4</td>\n",
       "      <td>4</td>\n",
       "      <td>Dairy Products</td>\n",
       "      <td>Cheeses</td>\n",
       "      <td>NaN</td>\n",
       "      <td>NaN</td>\n",
       "    </tr>\n",
       "    <tr>\n",
       "      <th>4</th>\n",
       "      <td>5</td>\n",
       "      <td>5</td>\n",
       "      <td>Grains/Cereals</td>\n",
       "      <td>Breads, crackers, pasta, and cereal</td>\n",
       "      <td>NaN</td>\n",
       "      <td>NaN</td>\n",
       "    </tr>\n",
       "    <tr>\n",
       "      <th>5</th>\n",
       "      <td>6</td>\n",
       "      <td>6</td>\n",
       "      <td>Meat/Poultry</td>\n",
       "      <td>Prepared meats</td>\n",
       "      <td>NaN</td>\n",
       "      <td>NaN</td>\n",
       "    </tr>\n",
       "    <tr>\n",
       "      <th>6</th>\n",
       "      <td>7</td>\n",
       "      <td>7</td>\n",
       "      <td>Produce</td>\n",
       "      <td>Dried fruit and bean curd</td>\n",
       "      <td>NaN</td>\n",
       "      <td>NaN</td>\n",
       "    </tr>\n",
       "    <tr>\n",
       "      <th>7</th>\n",
       "      <td>8</td>\n",
       "      <td>8</td>\n",
       "      <td>Seafood</td>\n",
       "      <td>Seaweed and fish</td>\n",
       "      <td>NaN</td>\n",
       "      <td>NaN</td>\n",
       "    </tr>\n",
       "  </tbody>\n",
       "</table>\n",
       "</div>"
      ],
      "text/plain": [
       "   CategoryID_SK  CategoryID_NK    CategoryName  \\\n",
       "0              1              1       Beverages   \n",
       "1              2              2      Condiments   \n",
       "2              3              3     Confections   \n",
       "3              4              4  Dairy Products   \n",
       "4              5              5  Grains/Cereals   \n",
       "5              6              6    Meat/Poultry   \n",
       "6              7              7         Produce   \n",
       "7              8              8         Seafood   \n",
       "\n",
       "                                         Description  Description_Prev1  \\\n",
       "0        Soft drinks, coffees, teas, beers, and ales                NaN   \n",
       "1  Sweet and savory sauces, relishes, spreads, an...                NaN   \n",
       "2                Desserts, candies, and sweet breads                NaN   \n",
       "3                                            Cheeses                NaN   \n",
       "4                Breads, crackers, pasta, and cereal                NaN   \n",
       "5                                     Prepared meats                NaN   \n",
       "6                          Dried fruit and bean curd                NaN   \n",
       "7                                   Seaweed and fish                NaN   \n",
       "\n",
       "   Description_Prev1_ValidTo  \n",
       "0                        NaN  \n",
       "1                        NaN  \n",
       "2                        NaN  \n",
       "3                        NaN  \n",
       "4                        NaN  \n",
       "5                        NaN  \n",
       "6                        NaN  \n",
       "7                        NaN  "
      ]
     },
     "execution_count": 18,
     "metadata": {},
     "output_type": "execute_result"
    }
   ],
   "source": [
    "t = \"blobs/Orders_DIMENSIONAL_DW.dbo.dim_Categories_SCD3\"\n",
    "import pandas as pd\n",
    "pd.read_csv(t)"
   ]
  },
  {
   "cell_type": "code",
   "execution_count": null,
   "metadata": {},
   "outputs": [],
   "source": []
  }
 ],
 "metadata": {
  "kernelspec": {
   "display_name": "Python 3 (ipykernel)",
   "language": "python",
   "name": "python3"
  },
  "language_info": {
   "codemirror_mode": {
    "name": "ipython",
    "version": 3
   },
   "file_extension": ".py",
   "mimetype": "text/x-python",
   "name": "python",
   "nbconvert_exporter": "python",
   "pygments_lexer": "ipython3",
   "version": "3.9.13"
  }
 },
 "nbformat": 4,
 "nbformat_minor": 2
}
